{
 "cells": [
  {
   "cell_type": "code",
   "execution_count": 22,
   "metadata": {},
   "outputs": [],
   "source": [
    "import os"
   ]
  },
  {
   "cell_type": "code",
   "execution_count": 23,
   "metadata": {},
   "outputs": [],
   "source": [
    "DB_dir = '/DB/VoxCeleb1/voxceleb1_wav/'#directory where downloaded VoxCeleb1 dataset exists\n",
    "DB_dir = 'C:\\\\Users\\\\mamdiallo\\\\Fac\\\\rawnet_test\\\\wav\\\\'\n",
    "dataset = 'dev'#execute this script with either 'dev' or 'eval'"
   ]
  },
  {
   "cell_type": "code",
   "execution_count": 25,
   "metadata": {},
   "outputs": [
    {
     "name": "stdout",
     "output_type": "stream",
     "text": [
      "C:\\Users\\mamdiallo\\Fac\\rawnet_test\\wav\\\n",
      "['id10001']\n",
      "[]\n",
      "C:\\Users\\mamdiallo\\Fac\\rawnet_test\\wav\\id10001\n",
      "['1zcIwhmdeo4', '7gWzIy6yIIk', '7w0IBEWc9Qw', '9mQ11vBs1wc', 'DtdEYdViWdw', 'eWIX7sfn-M0', 'J9lHsKG98U8', 'utrA-v8pPm4', 'Y8hIVOBuels', 'zELwAz2W6hM']\n",
      "[]\n",
      "C:\\Users\\mamdiallo\\Fac\\rawnet_test\\wav\\id10001\\1zcIwhmdeo4\n",
      "[]\n",
      "['00001.wav', '00002.wav', '00003.wav']\n",
      "C:\\Users\\mamdiallo\\Fac\\rawnet_test\\wav\\id10001\\7gWzIy6yIIk\n",
      "[]\n",
      "['00001.wav', '00002.wav', '00003.wav', '00004.wav']\n",
      "C:\\Users\\mamdiallo\\Fac\\rawnet_test\\wav\\id10001\\7w0IBEWc9Qw\n",
      "[]\n",
      "['00001.wav', '00002.wav', '00003.wav', '00004.wav', '00005.wav', '00006.wav', '00007.wav', '00008.wav', '00009.wav', '00010.wav']\n",
      "C:\\Users\\mamdiallo\\Fac\\rawnet_test\\wav\\id10001\\9mQ11vBs1wc\n",
      "[]\n",
      "['00001.wav', '00002.wav', '00003.wav', '00004.wav']\n",
      "C:\\Users\\mamdiallo\\Fac\\rawnet_test\\wav\\id10001\\DtdEYdViWdw\n",
      "[]\n",
      "['00001.wav', '00002.wav', '00003.wav']\n",
      "C:\\Users\\mamdiallo\\Fac\\rawnet_test\\wav\\id10001\\eWIX7sfn-M0\n",
      "[]\n",
      "['00001.wav']\n",
      "C:\\Users\\mamdiallo\\Fac\\rawnet_test\\wav\\id10001\\J9lHsKG98U8\n",
      "[]\n",
      "['00001.wav', '00002.wav', '00003.wav', '00004.wav', '00005.wav', '00006.wav', '00007.wav', '00008.wav', '00009.wav', '00010.wav', '00011.wav', '00012.wav', '00013.wav', '00014.wav', '00015.wav', '00016.wav', '00017.wav', '00018.wav', '00019.wav', '00020.wav', '00021.wav', '00022.wav', '00023.wav', '00024.wav', '00025.wav', '00026.wav']\n",
      "C:\\Users\\mamdiallo\\Fac\\rawnet_test\\wav\\id10001\\utrA-v8pPm4\n",
      "[]\n",
      "['00001.wav']\n",
      "C:\\Users\\mamdiallo\\Fac\\rawnet_test\\wav\\id10001\\Y8hIVOBuels\n",
      "[]\n",
      "['00001.wav', '00002.wav', '00003.wav', '00004.wav', '00005.wav', '00006.wav', '00007.wav', '00008.wav', '00009.wav', '00010.wav']\n",
      "C:\\Users\\mamdiallo\\Fac\\rawnet_test\\wav\\id10001\\zELwAz2W6hM\n",
      "[]\n",
      "['00001.wav', '00002.wav', '00003.wav', '00004.wav', '00005.wav', '00006.wav', '00007.wav', '00008.wav', '00009.wav', '00010.wav', '00011.wav', '00012.wav', '00013.wav', '00014.wav', '00015.wav']\n"
     ]
    }
   ],
   "source": [
    "list_f_dir = []\n",
    "for r, ds, fs in os.walk(DB_dir):\n",
    "    print(r)\n",
    "    print(ds)\n",
    "    print(fs)\n",
    "    for f in fs:\n",
    "        fn = '/'.join([r, f]).replace('\\\\', '/')\n",
    "        key = '/'.join(fn.split('/')[-2:])\n",
    "\n",
    "        if dataset == 'dev':\n",
    "            if key[0] != 'E':\n",
    "                list_f_dir.append('%s %s\\n'%(key, fn))\n"
   ]
  },
  {
   "cell_type": "code",
   "execution_count": 26,
   "metadata": {},
   "outputs": [
    {
     "name": "stdout",
     "output_type": "stream",
     "text": [
      "77\n"
     ]
    }
   ],
   "source": [
    "print(len(list_f_dir))"
   ]
  },
  {
   "cell_type": "code",
   "execution_count": 27,
   "metadata": {},
   "outputs": [
    {
     "name": "stdout",
     "output_type": "stream",
     "text": [
      "['1zcIwhmdeo4/00001.wav C:/Users/mamdiallo/Fac/rawnet_test/wav/id10001/1zcIwhmdeo4/00001.wav\\n', '1zcIwhmdeo4/00002.wav C:/Users/mamdiallo/Fac/rawnet_test/wav/id10001/1zcIwhmdeo4/00002.wav\\n', '1zcIwhmdeo4/00003.wav C:/Users/mamdiallo/Fac/rawnet_test/wav/id10001/1zcIwhmdeo4/00003.wav\\n', '7gWzIy6yIIk/00001.wav C:/Users/mamdiallo/Fac/rawnet_test/wav/id10001/7gWzIy6yIIk/00001.wav\\n', '7gWzIy6yIIk/00002.wav C:/Users/mamdiallo/Fac/rawnet_test/wav/id10001/7gWzIy6yIIk/00002.wav\\n', '7gWzIy6yIIk/00003.wav C:/Users/mamdiallo/Fac/rawnet_test/wav/id10001/7gWzIy6yIIk/00003.wav\\n', '7gWzIy6yIIk/00004.wav C:/Users/mamdiallo/Fac/rawnet_test/wav/id10001/7gWzIy6yIIk/00004.wav\\n', '7w0IBEWc9Qw/00001.wav C:/Users/mamdiallo/Fac/rawnet_test/wav/id10001/7w0IBEWc9Qw/00001.wav\\n', '7w0IBEWc9Qw/00002.wav C:/Users/mamdiallo/Fac/rawnet_test/wav/id10001/7w0IBEWc9Qw/00002.wav\\n', '7w0IBEWc9Qw/00003.wav C:/Users/mamdiallo/Fac/rawnet_test/wav/id10001/7w0IBEWc9Qw/00003.wav\\n', '7w0IBEWc9Qw/00004.wav C:/Users/mamdiallo/Fac/rawnet_test/wav/id10001/7w0IBEWc9Qw/00004.wav\\n', '7w0IBEWc9Qw/00005.wav C:/Users/mamdiallo/Fac/rawnet_test/wav/id10001/7w0IBEWc9Qw/00005.wav\\n', '7w0IBEWc9Qw/00006.wav C:/Users/mamdiallo/Fac/rawnet_test/wav/id10001/7w0IBEWc9Qw/00006.wav\\n', '7w0IBEWc9Qw/00007.wav C:/Users/mamdiallo/Fac/rawnet_test/wav/id10001/7w0IBEWc9Qw/00007.wav\\n', '7w0IBEWc9Qw/00008.wav C:/Users/mamdiallo/Fac/rawnet_test/wav/id10001/7w0IBEWc9Qw/00008.wav\\n', '7w0IBEWc9Qw/00009.wav C:/Users/mamdiallo/Fac/rawnet_test/wav/id10001/7w0IBEWc9Qw/00009.wav\\n', '7w0IBEWc9Qw/00010.wav C:/Users/mamdiallo/Fac/rawnet_test/wav/id10001/7w0IBEWc9Qw/00010.wav\\n', '9mQ11vBs1wc/00001.wav C:/Users/mamdiallo/Fac/rawnet_test/wav/id10001/9mQ11vBs1wc/00001.wav\\n', '9mQ11vBs1wc/00002.wav C:/Users/mamdiallo/Fac/rawnet_test/wav/id10001/9mQ11vBs1wc/00002.wav\\n', '9mQ11vBs1wc/00003.wav C:/Users/mamdiallo/Fac/rawnet_test/wav/id10001/9mQ11vBs1wc/00003.wav\\n', '9mQ11vBs1wc/00004.wav C:/Users/mamdiallo/Fac/rawnet_test/wav/id10001/9mQ11vBs1wc/00004.wav\\n', 'DtdEYdViWdw/00001.wav C:/Users/mamdiallo/Fac/rawnet_test/wav/id10001/DtdEYdViWdw/00001.wav\\n', 'DtdEYdViWdw/00002.wav C:/Users/mamdiallo/Fac/rawnet_test/wav/id10001/DtdEYdViWdw/00002.wav\\n', 'DtdEYdViWdw/00003.wav C:/Users/mamdiallo/Fac/rawnet_test/wav/id10001/DtdEYdViWdw/00003.wav\\n', 'eWIX7sfn-M0/00001.wav C:/Users/mamdiallo/Fac/rawnet_test/wav/id10001/eWIX7sfn-M0/00001.wav\\n', 'J9lHsKG98U8/00001.wav C:/Users/mamdiallo/Fac/rawnet_test/wav/id10001/J9lHsKG98U8/00001.wav\\n', 'J9lHsKG98U8/00002.wav C:/Users/mamdiallo/Fac/rawnet_test/wav/id10001/J9lHsKG98U8/00002.wav\\n', 'J9lHsKG98U8/00003.wav C:/Users/mamdiallo/Fac/rawnet_test/wav/id10001/J9lHsKG98U8/00003.wav\\n', 'J9lHsKG98U8/00004.wav C:/Users/mamdiallo/Fac/rawnet_test/wav/id10001/J9lHsKG98U8/00004.wav\\n', 'J9lHsKG98U8/00005.wav C:/Users/mamdiallo/Fac/rawnet_test/wav/id10001/J9lHsKG98U8/00005.wav\\n', 'J9lHsKG98U8/00006.wav C:/Users/mamdiallo/Fac/rawnet_test/wav/id10001/J9lHsKG98U8/00006.wav\\n', 'J9lHsKG98U8/00007.wav C:/Users/mamdiallo/Fac/rawnet_test/wav/id10001/J9lHsKG98U8/00007.wav\\n', 'J9lHsKG98U8/00008.wav C:/Users/mamdiallo/Fac/rawnet_test/wav/id10001/J9lHsKG98U8/00008.wav\\n', 'J9lHsKG98U8/00009.wav C:/Users/mamdiallo/Fac/rawnet_test/wav/id10001/J9lHsKG98U8/00009.wav\\n', 'J9lHsKG98U8/00010.wav C:/Users/mamdiallo/Fac/rawnet_test/wav/id10001/J9lHsKG98U8/00010.wav\\n', 'J9lHsKG98U8/00011.wav C:/Users/mamdiallo/Fac/rawnet_test/wav/id10001/J9lHsKG98U8/00011.wav\\n', 'J9lHsKG98U8/00012.wav C:/Users/mamdiallo/Fac/rawnet_test/wav/id10001/J9lHsKG98U8/00012.wav\\n', 'J9lHsKG98U8/00013.wav C:/Users/mamdiallo/Fac/rawnet_test/wav/id10001/J9lHsKG98U8/00013.wav\\n', 'J9lHsKG98U8/00014.wav C:/Users/mamdiallo/Fac/rawnet_test/wav/id10001/J9lHsKG98U8/00014.wav\\n', 'J9lHsKG98U8/00015.wav C:/Users/mamdiallo/Fac/rawnet_test/wav/id10001/J9lHsKG98U8/00015.wav\\n', 'J9lHsKG98U8/00016.wav C:/Users/mamdiallo/Fac/rawnet_test/wav/id10001/J9lHsKG98U8/00016.wav\\n', 'J9lHsKG98U8/00017.wav C:/Users/mamdiallo/Fac/rawnet_test/wav/id10001/J9lHsKG98U8/00017.wav\\n', 'J9lHsKG98U8/00018.wav C:/Users/mamdiallo/Fac/rawnet_test/wav/id10001/J9lHsKG98U8/00018.wav\\n', 'J9lHsKG98U8/00019.wav C:/Users/mamdiallo/Fac/rawnet_test/wav/id10001/J9lHsKG98U8/00019.wav\\n', 'J9lHsKG98U8/00020.wav C:/Users/mamdiallo/Fac/rawnet_test/wav/id10001/J9lHsKG98U8/00020.wav\\n', 'J9lHsKG98U8/00021.wav C:/Users/mamdiallo/Fac/rawnet_test/wav/id10001/J9lHsKG98U8/00021.wav\\n', 'J9lHsKG98U8/00022.wav C:/Users/mamdiallo/Fac/rawnet_test/wav/id10001/J9lHsKG98U8/00022.wav\\n', 'J9lHsKG98U8/00023.wav C:/Users/mamdiallo/Fac/rawnet_test/wav/id10001/J9lHsKG98U8/00023.wav\\n', 'J9lHsKG98U8/00024.wav C:/Users/mamdiallo/Fac/rawnet_test/wav/id10001/J9lHsKG98U8/00024.wav\\n', 'J9lHsKG98U8/00025.wav C:/Users/mamdiallo/Fac/rawnet_test/wav/id10001/J9lHsKG98U8/00025.wav\\n', 'J9lHsKG98U8/00026.wav C:/Users/mamdiallo/Fac/rawnet_test/wav/id10001/J9lHsKG98U8/00026.wav\\n', 'utrA-v8pPm4/00001.wav C:/Users/mamdiallo/Fac/rawnet_test/wav/id10001/utrA-v8pPm4/00001.wav\\n', 'Y8hIVOBuels/00001.wav C:/Users/mamdiallo/Fac/rawnet_test/wav/id10001/Y8hIVOBuels/00001.wav\\n', 'Y8hIVOBuels/00002.wav C:/Users/mamdiallo/Fac/rawnet_test/wav/id10001/Y8hIVOBuels/00002.wav\\n', 'Y8hIVOBuels/00003.wav C:/Users/mamdiallo/Fac/rawnet_test/wav/id10001/Y8hIVOBuels/00003.wav\\n', 'Y8hIVOBuels/00004.wav C:/Users/mamdiallo/Fac/rawnet_test/wav/id10001/Y8hIVOBuels/00004.wav\\n', 'Y8hIVOBuels/00005.wav C:/Users/mamdiallo/Fac/rawnet_test/wav/id10001/Y8hIVOBuels/00005.wav\\n', 'Y8hIVOBuels/00006.wav C:/Users/mamdiallo/Fac/rawnet_test/wav/id10001/Y8hIVOBuels/00006.wav\\n', 'Y8hIVOBuels/00007.wav C:/Users/mamdiallo/Fac/rawnet_test/wav/id10001/Y8hIVOBuels/00007.wav\\n', 'Y8hIVOBuels/00008.wav C:/Users/mamdiallo/Fac/rawnet_test/wav/id10001/Y8hIVOBuels/00008.wav\\n', 'Y8hIVOBuels/00009.wav C:/Users/mamdiallo/Fac/rawnet_test/wav/id10001/Y8hIVOBuels/00009.wav\\n', 'Y8hIVOBuels/00010.wav C:/Users/mamdiallo/Fac/rawnet_test/wav/id10001/Y8hIVOBuels/00010.wav\\n', 'zELwAz2W6hM/00001.wav C:/Users/mamdiallo/Fac/rawnet_test/wav/id10001/zELwAz2W6hM/00001.wav\\n', 'zELwAz2W6hM/00002.wav C:/Users/mamdiallo/Fac/rawnet_test/wav/id10001/zELwAz2W6hM/00002.wav\\n', 'zELwAz2W6hM/00003.wav C:/Users/mamdiallo/Fac/rawnet_test/wav/id10001/zELwAz2W6hM/00003.wav\\n', 'zELwAz2W6hM/00004.wav C:/Users/mamdiallo/Fac/rawnet_test/wav/id10001/zELwAz2W6hM/00004.wav\\n', 'zELwAz2W6hM/00005.wav C:/Users/mamdiallo/Fac/rawnet_test/wav/id10001/zELwAz2W6hM/00005.wav\\n', 'zELwAz2W6hM/00006.wav C:/Users/mamdiallo/Fac/rawnet_test/wav/id10001/zELwAz2W6hM/00006.wav\\n', 'zELwAz2W6hM/00007.wav C:/Users/mamdiallo/Fac/rawnet_test/wav/id10001/zELwAz2W6hM/00007.wav\\n', 'zELwAz2W6hM/00008.wav C:/Users/mamdiallo/Fac/rawnet_test/wav/id10001/zELwAz2W6hM/00008.wav\\n', 'zELwAz2W6hM/00009.wav C:/Users/mamdiallo/Fac/rawnet_test/wav/id10001/zELwAz2W6hM/00009.wav\\n', 'zELwAz2W6hM/00010.wav C:/Users/mamdiallo/Fac/rawnet_test/wav/id10001/zELwAz2W6hM/00010.wav\\n', 'zELwAz2W6hM/00011.wav C:/Users/mamdiallo/Fac/rawnet_test/wav/id10001/zELwAz2W6hM/00011.wav\\n', 'zELwAz2W6hM/00012.wav C:/Users/mamdiallo/Fac/rawnet_test/wav/id10001/zELwAz2W6hM/00012.wav\\n', 'zELwAz2W6hM/00013.wav C:/Users/mamdiallo/Fac/rawnet_test/wav/id10001/zELwAz2W6hM/00013.wav\\n', 'zELwAz2W6hM/00014.wav C:/Users/mamdiallo/Fac/rawnet_test/wav/id10001/zELwAz2W6hM/00014.wav\\n', 'zELwAz2W6hM/00015.wav C:/Users/mamdiallo/Fac/rawnet_test/wav/id10001/zELwAz2W6hM/00015.wav\\n']\n"
     ]
    }
   ],
   "source": [
    "print(list_f_dir)"
   ]
  },
  {
   "cell_type": "code",
   "execution_count": null,
   "metadata": {},
   "outputs": [],
   "source": []
  },
  {
   "cell_type": "code",
   "execution_count": null,
   "metadata": {},
   "outputs": [],
   "source": []
  },
  {
   "cell_type": "code",
   "execution_count": 28,
   "metadata": {},
   "outputs": [],
   "source": [
    "def get_utt_list(src_dir):\n",
    "    l_utt = []\n",
    "    for r, ds, fs in os.walk(src_dir):\n",
    "        r = r.replace('\\\\', '/')   \n",
    "        base = '/'.join(r.split('/')[-2:])+'/'\n",
    "        for f in fs:\n",
    "            l_utt.append(base+f[:-4])\n",
    "    return l_utt\n",
    "\n",
    "\n",
    "src_dir = 'C:/Users/mamdiallo/Fac/rawnet_test/wav'\n",
    "l = get_utt_list(src_dir)"
   ]
  },
  {
   "cell_type": "code",
   "execution_count": null,
   "metadata": {},
   "outputs": [],
   "source": []
  },
  {
   "cell_type": "code",
   "execution_count": 29,
   "metadata": {},
   "outputs": [
    {
     "name": "stdout",
     "output_type": "stream",
     "text": [
      "['id10001/1zcIwhmdeo4/00001', 'id10001/1zcIwhmdeo4/00002', 'id10001/1zcIwhmdeo4/00003', 'id10001/7gWzIy6yIIk/00001', 'id10001/7gWzIy6yIIk/00002', 'id10001/7gWzIy6yIIk/00003', 'id10001/7gWzIy6yIIk/00004', 'id10001/7w0IBEWc9Qw/00001', 'id10001/7w0IBEWc9Qw/00002', 'id10001/7w0IBEWc9Qw/00003', 'id10001/7w0IBEWc9Qw/00004', 'id10001/7w0IBEWc9Qw/00005', 'id10001/7w0IBEWc9Qw/00006', 'id10001/7w0IBEWc9Qw/00007', 'id10001/7w0IBEWc9Qw/00008', 'id10001/7w0IBEWc9Qw/00009', 'id10001/7w0IBEWc9Qw/00010', 'id10001/9mQ11vBs1wc/00001', 'id10001/9mQ11vBs1wc/00002', 'id10001/9mQ11vBs1wc/00003', 'id10001/9mQ11vBs1wc/00004', 'id10001/DtdEYdViWdw/00001', 'id10001/DtdEYdViWdw/00002', 'id10001/DtdEYdViWdw/00003', 'id10001/eWIX7sfn-M0/00001', 'id10001/J9lHsKG98U8/00001', 'id10001/J9lHsKG98U8/00002', 'id10001/J9lHsKG98U8/00003', 'id10001/J9lHsKG98U8/00004', 'id10001/J9lHsKG98U8/00005', 'id10001/J9lHsKG98U8/00006', 'id10001/J9lHsKG98U8/00007', 'id10001/J9lHsKG98U8/00008', 'id10001/J9lHsKG98U8/00009', 'id10001/J9lHsKG98U8/00010', 'id10001/J9lHsKG98U8/00011', 'id10001/J9lHsKG98U8/00012', 'id10001/J9lHsKG98U8/00013', 'id10001/J9lHsKG98U8/00014', 'id10001/J9lHsKG98U8/00015', 'id10001/J9lHsKG98U8/00016', 'id10001/J9lHsKG98U8/00017', 'id10001/J9lHsKG98U8/00018', 'id10001/J9lHsKG98U8/00019', 'id10001/J9lHsKG98U8/00020', 'id10001/J9lHsKG98U8/00021', 'id10001/J9lHsKG98U8/00022', 'id10001/J9lHsKG98U8/00023', 'id10001/J9lHsKG98U8/00024', 'id10001/J9lHsKG98U8/00025', 'id10001/J9lHsKG98U8/00026', 'id10001/utrA-v8pPm4/00001', 'id10001/Y8hIVOBuels/00001', 'id10001/Y8hIVOBuels/00002', 'id10001/Y8hIVOBuels/00003', 'id10001/Y8hIVOBuels/00004', 'id10001/Y8hIVOBuels/00005', 'id10001/Y8hIVOBuels/00006', 'id10001/Y8hIVOBuels/00007', 'id10001/Y8hIVOBuels/00008', 'id10001/Y8hIVOBuels/00009', 'id10001/Y8hIVOBuels/00010', 'id10001/zELwAz2W6hM/00001', 'id10001/zELwAz2W6hM/00002', 'id10001/zELwAz2W6hM/00003', 'id10001/zELwAz2W6hM/00004', 'id10001/zELwAz2W6hM/00005', 'id10001/zELwAz2W6hM/00006', 'id10001/zELwAz2W6hM/00007', 'id10001/zELwAz2W6hM/00008', 'id10001/zELwAz2W6hM/00009', 'id10001/zELwAz2W6hM/00010', 'id10001/zELwAz2W6hM/00011', 'id10001/zELwAz2W6hM/00012', 'id10001/zELwAz2W6hM/00013', 'id10001/zELwAz2W6hM/00014', 'id10001/zELwAz2W6hM/00015']\n"
     ]
    }
   ],
   "source": [
    "print(l)"
   ]
  },
  {
   "cell_type": "code",
   "execution_count": 30,
   "metadata": {},
   "outputs": [],
   "source": [
    "def get_label_dic_Voxceleb(l_utt):\n",
    "    d_label = {}\n",
    "    idx_counter = 0\n",
    "    for utt in l_utt:\n",
    "        spk = utt.split('/')[0]\n",
    "        if spk not in d_label:\n",
    "            d_label[spk] = idx_counter\n",
    "            idx_counter += 1 \n",
    "    return d_label"
   ]
  },
  {
   "cell_type": "code",
   "execution_count": 31,
   "metadata": {},
   "outputs": [
    {
     "name": "stdout",
     "output_type": "stream",
     "text": [
      "{'id10001': 0}\n"
     ]
    }
   ],
   "source": [
    "print(get_label_dic_Voxceleb(l))"
   ]
  },
  {
   "cell_type": "code",
   "execution_count": 32,
   "metadata": {},
   "outputs": [
    {
     "ename": "ValueError",
     "evalue": "when adjusting utterance length, \"nb_time\" should be input",
     "output_type": "error",
     "traceback": [
      "\u001b[1;31m---------------------------------------------------------------------------\u001b[0m",
      "\u001b[1;31mValueError\u001b[0m                                Traceback (most recent call last)",
      "\u001b[1;32m<ipython-input-32-f218c5262bd2>\u001b[0m in \u001b[0;36m<module>\u001b[1;34m\u001b[0m\n\u001b[1;32m----> 1\u001b[1;33m \u001b[1;32mif\u001b[0m \u001b[1;32mTrue\u001b[0m\u001b[1;33m:\u001b[0m \u001b[1;32mraise\u001b[0m \u001b[0mValueError\u001b[0m\u001b[1;33m(\u001b[0m\u001b[1;34m'when adjusting utterance length, \"nb_time\" should be input'\u001b[0m\u001b[1;33m)\u001b[0m\u001b[1;33m\u001b[0m\u001b[1;33m\u001b[0m\u001b[0m\n\u001b[0m",
      "\u001b[1;31mValueError\u001b[0m: when adjusting utterance length, \"nb_time\" should be input"
     ]
    }
   ],
   "source": [
    "if True: raise ValueError('when adjusting utterance length, \"nb_time\" should be input')"
   ]
  },
  {
   "cell_type": "code",
   "execution_count": null,
   "metadata": {},
   "outputs": [],
   "source": []
  },
  {
   "cell_type": "code",
   "execution_count": null,
   "metadata": {},
   "outputs": [],
   "source": []
  },
  {
   "cell_type": "code",
   "execution_count": 14,
   "metadata": {},
   "outputs": [],
   "source": [
    "def __len__(self):\n",
    "        return len(self.list_IDs)"
   ]
  },
  {
   "cell_type": "code",
   "execution_count": 15,
   "metadata": {},
   "outputs": [],
   "source": [
    "def __getitem__(self, index):\n",
    "    ID = self.list_IDs[index]\n",
    "    X = np.load(self.base_dir+ID+'.npy')\n",
    "    if self.pre_emp: X = self._pre_emphasis(X)\n",
    "    if self.cut:\n",
    "        nb_time = X.shape[1]\n",
    "        if nb_time > self.nb_time:\n",
    "            start_idx = np.random.randint(low = 0,\n",
    "                high = nb_time - self.nb_time)\n",
    "            X = X[:, start_idx:start_idx+self.nb_time]\n",
    "        elif nb_time < self.nb_time:\n",
    "            nb_dup = int(self.nb_time / nb_time) + 1\n",
    "            X = np.tile(X, (1, nb_dup))[:, :self.nb_time]\n",
    "        else:\n",
    "            X = X\n",
    "    if not self.return_label:\n",
    "        return X\n",
    "    y = self.labels[ID.split('/')[0]]\n",
    "    return X, y\n"
   ]
  },
  {
   "cell_type": "code",
   "execution_count": 16,
   "metadata": {},
   "outputs": [],
   "source": [
    " def _pre_emphasis(self, x):\n",
    "        '''\n",
    "        Pre-emphasis for single channel input\n",
    "        '''\n",
    "        return np.asarray(x[:,1:] - 0.97 * x[:, :-1], dtype=np.float32) "
   ]
  },
  {
   "cell_type": "code",
   "execution_count": null,
   "metadata": {},
   "outputs": [],
   "source": []
  },
  {
   "cell_type": "code",
   "execution_count": 17,
   "metadata": {},
   "outputs": [],
   "source": [
    "import wave\n",
    "waveFile = \"C:\\\\Users\\\\mamdiallo\\\\Fac\\\\rawnet_test\\\\wav\\\\id10001\\\\7gWzIy6yIIk\\\\00003.wav\""
   ]
  },
  {
   "cell_type": "code",
   "execution_count": 18,
   "metadata": {},
   "outputs": [],
   "source": [
    "# wav = wave.open(waveFile, mode='w')\n",
    "# print(wav)\n",
    "# e = wav.getnframes()\n",
    "# m = wav.getframerate()\n",
    "# duration = e / float(m)\n",
    "# print(duration)"
   ]
  },
  {
   "cell_type": "code",
   "execution_count": 19,
   "metadata": {},
   "outputs": [
    {
     "ename": "NameError",
     "evalue": "name 'wav' is not defined",
     "output_type": "error",
     "traceback": [
      "\u001b[1;31m---------------------------------------------------------------------------\u001b[0m",
      "\u001b[1;31mNameError\u001b[0m                                 Traceback (most recent call last)",
      "\u001b[1;32m<ipython-input-19-b56c4e4cd067>\u001b[0m in \u001b[0;36m<module>\u001b[1;34m\u001b[0m\n\u001b[1;32m----> 1\u001b[1;33m \u001b[0mprint\u001b[0m\u001b[1;33m(\u001b[0m\u001b[0mwav\u001b[0m\u001b[1;33m)\u001b[0m\u001b[1;33m\u001b[0m\u001b[1;33m\u001b[0m\u001b[0m\n\u001b[0m",
      "\u001b[1;31mNameError\u001b[0m: name 'wav' is not defined"
     ]
    }
   ],
   "source": [
    "print(wav)"
   ]
  },
  {
   "cell_type": "code",
   "execution_count": 20,
   "metadata": {},
   "outputs": [
    {
     "ename": "EOFError",
     "evalue": "",
     "output_type": "error",
     "traceback": [
      "\u001b[1;31m---------------------------------------------------------------------------\u001b[0m",
      "\u001b[1;31mEOFError\u001b[0m                                  Traceback (most recent call last)",
      "\u001b[1;32m<ipython-input-20-66bdc40c4a3e>\u001b[0m in \u001b[0;36m<module>\u001b[1;34m\u001b[0m\n\u001b[0;32m      2\u001b[0m \u001b[1;32mimport\u001b[0m \u001b[0mcontextlib\u001b[0m\u001b[1;33m\u001b[0m\u001b[1;33m\u001b[0m\u001b[0m\n\u001b[0;32m      3\u001b[0m \u001b[0mfname\u001b[0m \u001b[1;33m=\u001b[0m \u001b[0mwaveFile\u001b[0m\u001b[1;33m\u001b[0m\u001b[1;33m\u001b[0m\u001b[0m\n\u001b[1;32m----> 4\u001b[1;33m \u001b[1;32mwith\u001b[0m \u001b[0mcontextlib\u001b[0m\u001b[1;33m.\u001b[0m\u001b[0mclosing\u001b[0m\u001b[1;33m(\u001b[0m\u001b[0mwave\u001b[0m\u001b[1;33m.\u001b[0m\u001b[0mopen\u001b[0m\u001b[1;33m(\u001b[0m\u001b[0mfname\u001b[0m\u001b[1;33m,\u001b[0m\u001b[1;34m'r'\u001b[0m\u001b[1;33m)\u001b[0m\u001b[1;33m)\u001b[0m \u001b[1;32mas\u001b[0m \u001b[0mf\u001b[0m\u001b[1;33m:\u001b[0m\u001b[1;33m\u001b[0m\u001b[1;33m\u001b[0m\u001b[0m\n\u001b[0m\u001b[0;32m      5\u001b[0m     \u001b[0mframes\u001b[0m \u001b[1;33m=\u001b[0m \u001b[0mf\u001b[0m\u001b[1;33m.\u001b[0m\u001b[0mgetnframes\u001b[0m\u001b[1;33m(\u001b[0m\u001b[1;33m)\u001b[0m\u001b[1;33m\u001b[0m\u001b[1;33m\u001b[0m\u001b[0m\n\u001b[0;32m      6\u001b[0m     \u001b[0mrate\u001b[0m \u001b[1;33m=\u001b[0m \u001b[0mf\u001b[0m\u001b[1;33m.\u001b[0m\u001b[0mgetframerate\u001b[0m\u001b[1;33m(\u001b[0m\u001b[1;33m)\u001b[0m\u001b[1;33m\u001b[0m\u001b[1;33m\u001b[0m\u001b[0m\n",
      "\u001b[1;32m~\\AppData\\Local\\Continuum\\anaconda3\\lib\\wave.py\u001b[0m in \u001b[0;36mopen\u001b[1;34m(f, mode)\u001b[0m\n\u001b[0;32m    508\u001b[0m             \u001b[0mmode\u001b[0m \u001b[1;33m=\u001b[0m \u001b[1;34m'rb'\u001b[0m\u001b[1;33m\u001b[0m\u001b[1;33m\u001b[0m\u001b[0m\n\u001b[0;32m    509\u001b[0m     \u001b[1;32mif\u001b[0m \u001b[0mmode\u001b[0m \u001b[1;32min\u001b[0m \u001b[1;33m(\u001b[0m\u001b[1;34m'r'\u001b[0m\u001b[1;33m,\u001b[0m \u001b[1;34m'rb'\u001b[0m\u001b[1;33m)\u001b[0m\u001b[1;33m:\u001b[0m\u001b[1;33m\u001b[0m\u001b[1;33m\u001b[0m\u001b[0m\n\u001b[1;32m--> 510\u001b[1;33m         \u001b[1;32mreturn\u001b[0m \u001b[0mWave_read\u001b[0m\u001b[1;33m(\u001b[0m\u001b[0mf\u001b[0m\u001b[1;33m)\u001b[0m\u001b[1;33m\u001b[0m\u001b[1;33m\u001b[0m\u001b[0m\n\u001b[0m\u001b[0;32m    511\u001b[0m     \u001b[1;32melif\u001b[0m \u001b[0mmode\u001b[0m \u001b[1;32min\u001b[0m \u001b[1;33m(\u001b[0m\u001b[1;34m'w'\u001b[0m\u001b[1;33m,\u001b[0m \u001b[1;34m'wb'\u001b[0m\u001b[1;33m)\u001b[0m\u001b[1;33m:\u001b[0m\u001b[1;33m\u001b[0m\u001b[1;33m\u001b[0m\u001b[0m\n\u001b[0;32m    512\u001b[0m         \u001b[1;32mreturn\u001b[0m \u001b[0mWave_write\u001b[0m\u001b[1;33m(\u001b[0m\u001b[0mf\u001b[0m\u001b[1;33m)\u001b[0m\u001b[1;33m\u001b[0m\u001b[1;33m\u001b[0m\u001b[0m\n",
      "\u001b[1;32m~\\AppData\\Local\\Continuum\\anaconda3\\lib\\wave.py\u001b[0m in \u001b[0;36m__init__\u001b[1;34m(self, f)\u001b[0m\n\u001b[0;32m    162\u001b[0m         \u001b[1;31m# else, assume it is an open file object already\u001b[0m\u001b[1;33m\u001b[0m\u001b[1;33m\u001b[0m\u001b[1;33m\u001b[0m\u001b[0m\n\u001b[0;32m    163\u001b[0m         \u001b[1;32mtry\u001b[0m\u001b[1;33m:\u001b[0m\u001b[1;33m\u001b[0m\u001b[1;33m\u001b[0m\u001b[0m\n\u001b[1;32m--> 164\u001b[1;33m             \u001b[0mself\u001b[0m\u001b[1;33m.\u001b[0m\u001b[0minitfp\u001b[0m\u001b[1;33m(\u001b[0m\u001b[0mf\u001b[0m\u001b[1;33m)\u001b[0m\u001b[1;33m\u001b[0m\u001b[1;33m\u001b[0m\u001b[0m\n\u001b[0m\u001b[0;32m    165\u001b[0m         \u001b[1;32mexcept\u001b[0m\u001b[1;33m:\u001b[0m\u001b[1;33m\u001b[0m\u001b[1;33m\u001b[0m\u001b[0m\n\u001b[0;32m    166\u001b[0m             \u001b[1;32mif\u001b[0m \u001b[0mself\u001b[0m\u001b[1;33m.\u001b[0m\u001b[0m_i_opened_the_file\u001b[0m\u001b[1;33m:\u001b[0m\u001b[1;33m\u001b[0m\u001b[1;33m\u001b[0m\u001b[0m\n",
      "\u001b[1;32m~\\AppData\\Local\\Continuum\\anaconda3\\lib\\wave.py\u001b[0m in \u001b[0;36minitfp\u001b[1;34m(self, file)\u001b[0m\n\u001b[0;32m    127\u001b[0m         \u001b[0mself\u001b[0m\u001b[1;33m.\u001b[0m\u001b[0m_convert\u001b[0m \u001b[1;33m=\u001b[0m \u001b[1;32mNone\u001b[0m\u001b[1;33m\u001b[0m\u001b[1;33m\u001b[0m\u001b[0m\n\u001b[0;32m    128\u001b[0m         \u001b[0mself\u001b[0m\u001b[1;33m.\u001b[0m\u001b[0m_soundpos\u001b[0m \u001b[1;33m=\u001b[0m \u001b[1;36m0\u001b[0m\u001b[1;33m\u001b[0m\u001b[1;33m\u001b[0m\u001b[0m\n\u001b[1;32m--> 129\u001b[1;33m         \u001b[0mself\u001b[0m\u001b[1;33m.\u001b[0m\u001b[0m_file\u001b[0m \u001b[1;33m=\u001b[0m \u001b[0mChunk\u001b[0m\u001b[1;33m(\u001b[0m\u001b[0mfile\u001b[0m\u001b[1;33m,\u001b[0m \u001b[0mbigendian\u001b[0m \u001b[1;33m=\u001b[0m \u001b[1;36m0\u001b[0m\u001b[1;33m)\u001b[0m\u001b[1;33m\u001b[0m\u001b[1;33m\u001b[0m\u001b[0m\n\u001b[0m\u001b[0;32m    130\u001b[0m         \u001b[1;32mif\u001b[0m \u001b[0mself\u001b[0m\u001b[1;33m.\u001b[0m\u001b[0m_file\u001b[0m\u001b[1;33m.\u001b[0m\u001b[0mgetname\u001b[0m\u001b[1;33m(\u001b[0m\u001b[1;33m)\u001b[0m \u001b[1;33m!=\u001b[0m \u001b[1;34mb'RIFF'\u001b[0m\u001b[1;33m:\u001b[0m\u001b[1;33m\u001b[0m\u001b[1;33m\u001b[0m\u001b[0m\n\u001b[0;32m    131\u001b[0m             \u001b[1;32mraise\u001b[0m \u001b[0mError\u001b[0m\u001b[1;33m(\u001b[0m\u001b[1;34m'file does not start with RIFF id'\u001b[0m\u001b[1;33m)\u001b[0m\u001b[1;33m\u001b[0m\u001b[1;33m\u001b[0m\u001b[0m\n",
      "\u001b[1;32m~\\AppData\\Local\\Continuum\\anaconda3\\lib\\chunk.py\u001b[0m in \u001b[0;36m__init__\u001b[1;34m(self, file, align, bigendian, inclheader)\u001b[0m\n\u001b[0;32m     61\u001b[0m         \u001b[0mself\u001b[0m\u001b[1;33m.\u001b[0m\u001b[0mchunkname\u001b[0m \u001b[1;33m=\u001b[0m \u001b[0mfile\u001b[0m\u001b[1;33m.\u001b[0m\u001b[0mread\u001b[0m\u001b[1;33m(\u001b[0m\u001b[1;36m4\u001b[0m\u001b[1;33m)\u001b[0m\u001b[1;33m\u001b[0m\u001b[1;33m\u001b[0m\u001b[0m\n\u001b[0;32m     62\u001b[0m         \u001b[1;32mif\u001b[0m \u001b[0mlen\u001b[0m\u001b[1;33m(\u001b[0m\u001b[0mself\u001b[0m\u001b[1;33m.\u001b[0m\u001b[0mchunkname\u001b[0m\u001b[1;33m)\u001b[0m \u001b[1;33m<\u001b[0m \u001b[1;36m4\u001b[0m\u001b[1;33m:\u001b[0m\u001b[1;33m\u001b[0m\u001b[1;33m\u001b[0m\u001b[0m\n\u001b[1;32m---> 63\u001b[1;33m             \u001b[1;32mraise\u001b[0m \u001b[0mEOFError\u001b[0m\u001b[1;33m\u001b[0m\u001b[1;33m\u001b[0m\u001b[0m\n\u001b[0m\u001b[0;32m     64\u001b[0m         \u001b[1;32mtry\u001b[0m\u001b[1;33m:\u001b[0m\u001b[1;33m\u001b[0m\u001b[1;33m\u001b[0m\u001b[0m\n\u001b[0;32m     65\u001b[0m             \u001b[0mself\u001b[0m\u001b[1;33m.\u001b[0m\u001b[0mchunksize\u001b[0m \u001b[1;33m=\u001b[0m \u001b[0mstruct\u001b[0m\u001b[1;33m.\u001b[0m\u001b[0munpack_from\u001b[0m\u001b[1;33m(\u001b[0m\u001b[0mstrflag\u001b[0m\u001b[1;33m+\u001b[0m\u001b[1;34m'L'\u001b[0m\u001b[1;33m,\u001b[0m \u001b[0mfile\u001b[0m\u001b[1;33m.\u001b[0m\u001b[0mread\u001b[0m\u001b[1;33m(\u001b[0m\u001b[1;36m4\u001b[0m\u001b[1;33m)\u001b[0m\u001b[1;33m)\u001b[0m\u001b[1;33m[\u001b[0m\u001b[1;36m0\u001b[0m\u001b[1;33m]\u001b[0m\u001b[1;33m\u001b[0m\u001b[1;33m\u001b[0m\u001b[0m\n",
      "\u001b[1;31mEOFError\u001b[0m: "
     ]
    }
   ],
   "source": [
    "import wave\n",
    "import contextlib\n",
    "fname = waveFile\n",
    "with contextlib.closing(wave.open(fname,'r')) as f:\n",
    "    frames = f.getnframes()\n",
    "    rate = f.getframerate()\n",
    "    duration = frames / float(rate)\n",
    "    print(duration)\n",
    "    print(frames)\n",
    "    print(rate)\n",
    "    f.close\n",
    "#     f.writeframes(data)\n",
    "\n",
    "    \n"
   ]
  },
  {
   "cell_type": "code",
   "execution_count": 21,
   "metadata": {},
   "outputs": [],
   "source": [
    "destWaveFile = \"C:\\\\Users\\\\mamdiallo\\\\Fac\\\\rawnet_test\\\\wav\\\\id10001\\\\\""
   ]
  },
  {
   "cell_type": "markdown",
   "metadata": {},
   "source": []
  },
  {
   "cell_type": "code",
   "execution_count": null,
   "metadata": {},
   "outputs": [],
   "source": []
  },
  {
   "cell_type": "code",
   "execution_count": null,
   "metadata": {},
   "outputs": [],
   "source": []
  },
  {
   "cell_type": "code",
   "execution_count": null,
   "metadata": {},
   "outputs": [],
   "source": []
  }
 ],
 "metadata": {
  "kernelspec": {
   "display_name": "Python 3",
   "language": "python",
   "name": "python3"
  },
  "language_info": {
   "codemirror_mode": {
    "name": "ipython",
    "version": 3
   },
   "file_extension": ".py",
   "mimetype": "text/x-python",
   "name": "python",
   "nbconvert_exporter": "python",
   "pygments_lexer": "ipython3",
   "version": "3.7.3"
  }
 },
 "nbformat": 4,
 "nbformat_minor": 2
}
