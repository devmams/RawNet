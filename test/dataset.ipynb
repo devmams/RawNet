{
 "cells": [
  {
   "cell_type": "code",
   "execution_count": 1,
   "metadata": {},
   "outputs": [],
   "source": [
    "import sys, os\n",
    "import torch\n",
    "import librosa\n",
    "import numpy as np\n",
    "import pandas as pd\n",
    "from torch import Tensor\n",
    "from scipy.io import wavfile\n",
    "from torchvision import transforms\n",
    "from torch.utils.data import DataLoader\n",
    "from torch.utils.data.dataset import Dataset\n",
    "import scipy.io.wavfile\n",
    "import wave\n",
    "import struct\n",
    "# import torchaudio\n"
   ]
  },
  {
   "cell_type": "code",
   "execution_count": 2,
   "metadata": {},
   "outputs": [],
   "source": [
    "class RawNetDataset(Dataset):\n",
    "    def __init__(self, transform=None, mode=\"train\",files_dir=None, base_dir=\"\",csv_file_dir=\"\",nb_time=59049):\n",
    "        self.base_dir = base_dir\n",
    "        self.mode = mode\n",
    "        self.transform = transform\n",
    "        self.csv_file_dir = csv_file_dir\n",
    "        self.files_dir = files_dir\n",
    "        csv_file = pd.read_csv(csv_file_dir,sep=\"\\t\")\n",
    "        self.nb_time = nb_time\n",
    "        self.classes = np.array([i for i, cls_name in enumerate(csv_file[\"VoxCeleb1 ID\"].unique())])\n",
    "\n",
    "    def __len__(self):\n",
    "        return self.classes.shape[0] \n",
    "    \n",
    "    def __getitem__(self, idx):\n",
    "        filename = self.files_dir[idx]\n",
    "        X, sample_rate = librosa.load(self.base_dir+filename)\n",
    "       \n",
    "       \n",
    "        \n",
    "        label = self.classes[idx]\n",
    "        X1 = torch.from_numpy(X)\n",
    "        \n",
    "#         print(type(X))\n",
    "#         print(type(X1))\n",
    "        X1.resize_((1,X1.shape[0]))\n",
    "# #         print(X1[:,1:])\n",
    "#         print(X.shape)\n",
    "        print(X1.shape)\n",
    "       \n",
    "        \n",
    "        self._pre_emphasis(X1)\n",
    "        nb_time = X1.shape[0]\n",
    "        print(nb_time)\n",
    "        print(self.nb_time)\n",
    "#         if nb_time > self.nb_time:\n",
    "#             start_idx = np.random.randint(low = 0, high = nb_time - self.nb_time)\n",
    "#             X1 = X1[:, start_idx:start_idx+self.nb_time]\n",
    "#             print(\"taille supérieure\")\n",
    "#         elif nb_time < self.nb_time:\n",
    "#             nb_dup = int(self.nb_time / nb_time) + 1\n",
    "#             X1 = np.tile(X1, (1, nb_dup))[:, :self.nb_time]\n",
    "#             print(\"taille inférieure\")\n",
    "#         else:\n",
    "#             X1 = X1\n",
    "#             print(\"taille égale\")\n",
    "#             print(X1)\n",
    "#             print(label)\n",
    "        print()\n",
    "        return X1, label\n",
    "\n",
    "    def _pre_emphasis(self, x):\n",
    "        '''\n",
    "        Pre-emphasis for single channel input\n",
    "        '''\n",
    "        return np.asarray(x[:,1:] - 0.97 * x[:, :-1], dtype=np.float32) \n",
    "\n"
   ]
  },
  {
   "cell_type": "code",
   "execution_count": 10,
   "metadata": {},
   "outputs": [],
   "source": [
    "base_dir = 'data/wav'\n",
    "list_IDs = ['/id10009/7hpSiT9_gCE/00001.wav',\n",
    "        '/id10009/aFttHpeaXaQ/00001.wav',\n",
    "        '/id10009/AtavJVP4bCk/00001.wav',\n",
    "        '/id10009/AtavJVP4bCk/00002.wav',\n",
    "        '/id10009/AtavJVP4bCk/00003.wav',\n",
    "        '/id10009/AtavJVP4bCk/00004.wav',\n",
    "        '/id10009/AtavJVP4bCk/00005.wav',\n",
    "        '/id10009/AtavJVP4bCk/00006.wav',\n",
    "        '/id10009/AtavJVP4bCk/00007.wav',\n",
    "        '/id10009/AtavJVP4bCk/00008.wav',\n",
    "        ]\n",
    "# list_IDs = ['/id10009/7hpSiT9_gCE/00001.wav',\n",
    "#         '/id10009/aFttHpeaXaQ/00001.wav',\n",
    "#         '/id10009/AtavJVP4bCk/00001.wav',\n",
    "#         '/id10009/AtavJVP4bCk/00002.wav'\n",
    "#         ]\n",
    "csv_file_dir = 'data/target/vox1_meta.csv'"
   ]
  },
  {
   "cell_type": "code",
   "execution_count": 28,
   "metadata": {},
   "outputs": [],
   "source": [
    "def get_utt_list(src_dir):\n",
    "    l_utt = []\n",
    "    for r, ds, fs in os.walk(src_dir):\n",
    "        r = r.replace('\\\\', '/')   \n",
    "        base = '/'.join(r.split('/')[-2:])+'/'\n",
    "        for f in fs:\n",
    "            l_utt.append(base+f[:-4]+'.wav')\n",
    "    return l_utt\n"
   ]
  },
  {
   "cell_type": "code",
   "execution_count": 35,
   "metadata": {
    "scrolled": true
   },
   "outputs": [
    {
     "name": "stdout",
     "output_type": "stream",
     "text": [
      "['data/wav/._id1.wav', 'data/wav/._id1.wav', 'data/wav/._id1.wav', 'data/wav/._id1.wav', 'data/wav/._id1.wav', 'wav/id10016/._pdTdefd.wav', 'wav/id10016/._ywRolvE.wav', 'wav/id10016/._7OacMAs.wav', 'wav/id10016/._WfkA4lU.wav', 'wav/id10016/._l5sY-WW.wav', 'wav/id10016/._5xGJYiN.wav', 'wav/id10016/._uM5GCGO.wav', 'wav/id10016/._37mbJ9b.wav', 'wav/id10016/._LSeSZiv.wav', 'wav/id10016/._MPkuYnD.wav', 'wav/id10016/._WwguhI5.wav', 'wav/id10016/._SCFgvk0.wav', 'wav/id10016/._hgB5ziA.wav', 'wav/id10016/._bIi7FnN.wav', 'wav/id10016/._MMTrblY.wav', 'wav/id10016/._Zxab80I.wav', 'wav/id10016/._FDXUYIg.wav', 'wav/id10016/._ocnz4PP.wav', 'wav/id10016/._o524HaR.wav', 'wav/id10016/.DS_S.wav', 'wav/id10016/._RREb7K-.wav', 'wav/id10016/._vpnw2jQ.wav', 'wav/id10016/._PnSNt2F.wav', 'wav/id10016/._.DS_S.wav', 'wav/id10016/._2wHaOQU.wav', 'wav/id10016/._dOnuu_9.wav', 'wav/id10016/._wg6IOBM.wav', 'wav/id10016/._j0CaA8L.wav', 'wav/id10016/._fb31Etx.wav', 'wav/id10016/._CsU9a10.wav', 'wav/id10016/._7FOcBtZ.wav', 'wav/id10016/._k4l2cRq.wav', 'wav/id10016/._a3j4Vg7.wav', 'wav/id10016/._8gWjr_-.wav', 'wav/id10016/._NJygdnZ.wav', 'id10016/pdTdefdQ_QI/00007.wav', 'id10016/pdTdefdQ_QI/._00004.wav', 'id10016/pdTdefdQ_QI/._00005.wav', 'id10016/pdTdefdQ_QI/._00003.wav', 'id10016/pdTdefdQ_QI/._00002.wav', 'id10016/pdTdefdQ_QI/00006.wav', 'id10016/pdTdefdQ_QI/._00001.wav', 'id10016/pdTdefdQ_QI/00004.wav', 'id10016/pdTdefdQ_QI/._00007.wav', 'id10016/pdTdefdQ_QI/._00006.wav', 'id10016/pdTdefdQ_QI/00002.wav', 'id10016/pdTdefdQ_QI/00003.wav', 'id10016/pdTdefdQ_QI/00001.wav', 'id10016/pdTdefdQ_QI/00005.wav', 'id10016/7FOcBtZM-rI/00007.wav', 'id10016/7FOcBtZM-rI/._00004.wav', 'id10016/7FOcBtZM-rI/._00005.wav', 'id10016/7FOcBtZM-rI/._00003.wav', 'id10016/7FOcBtZM-rI/._00002.wav', 'id10016/7FOcBtZM-rI/00006.wav', 'id10016/7FOcBtZM-rI/._00001.wav', 'id10016/7FOcBtZM-rI/00004.wav', 'id10016/7FOcBtZM-rI/._00007.wav', 'id10016/7FOcBtZM-rI/._00006.wav', 'id10016/7FOcBtZM-rI/00002.wav', 'id10016/7FOcBtZM-rI/00003.wav', 'id10016/7FOcBtZM-rI/00001.wav', 'id10016/7FOcBtZM-rI/00005.wav', 'id10016/dOnuu_9-nyI/._00016.wav', 'id10016/dOnuu_9-nyI/._00031.wav', 'id10016/dOnuu_9-nyI/00034.wav', 'id10016/dOnuu_9-nyI/._00042.wav', 'id10016/dOnuu_9-nyI/00030.wav', 'id10016/dOnuu_9-nyI/00029.wav', 'id10016/dOnuu_9-nyI/00021.wav', 'id10016/dOnuu_9-nyI/00012.wav', 'id10016/dOnuu_9-nyI/._00012.wav', 'id10016/dOnuu_9-nyI/00045.wav', 'id10016/dOnuu_9-nyI/00039.wav', 'id10016/dOnuu_9-nyI/._00021.wav', 'id10016/dOnuu_9-nyI/00042.wav', 'id10016/dOnuu_9-nyI/00027.wav', 'id10016/dOnuu_9-nyI/00017.wav', 'id10016/dOnuu_9-nyI/00026.wav', 'id10016/dOnuu_9-nyI/._00020.wav', 'id10016/dOnuu_9-nyI/._00037.wav', 'id10016/dOnuu_9-nyI/._00028.wav', 'id10016/dOnuu_9-nyI/00007.wav', 'id10016/dOnuu_9-nyI/00013.wav', 'id10016/dOnuu_9-nyI/00014.wav', 'id10016/dOnuu_9-nyI/._00027.wav', 'id10016/dOnuu_9-nyI/._00036.wav', 'id10016/dOnuu_9-nyI/00032.wav', 'id10016/dOnuu_9-nyI/._00004.wav', 'id10016/dOnuu_9-nyI/._00019.wav', 'id10016/dOnuu_9-nyI/._00032.wav', 'id10016/dOnuu_9-nyI/00035.wav', 'id10016/dOnuu_9-nyI/._00008.wav', 'id10016/dOnuu_9-nyI/._00011.wav', 'id10016/dOnuu_9-nyI/00044.wav', 'id10016/dOnuu_9-nyI/00031.wav', 'id10016/dOnuu_9-nyI/._00014.wav', 'id10016/dOnuu_9-nyI/00025.wav', 'id10016/dOnuu_9-nyI/00040.wav', 'id10016/dOnuu_9-nyI/00023.wav', 'id10016/dOnuu_9-nyI/._00005.wav', 'id10016/dOnuu_9-nyI/00033.wav', 'id10016/dOnuu_9-nyI/00016.wav', 'id10016/dOnuu_9-nyI/._00038.wav', 'id10016/dOnuu_9-nyI/00037.wav', 'id10016/dOnuu_9-nyI/._00003.wav', 'id10016/dOnuu_9-nyI/._00033.wav', 'id10016/dOnuu_9-nyI/00036.wav', 'id10016/dOnuu_9-nyI/._00002.wav', 'id10016/dOnuu_9-nyI/._00029.wav', 'id10016/dOnuu_9-nyI/00010.wav', 'id10016/dOnuu_9-nyI/._00018.wav', 'id10016/dOnuu_9-nyI/00006.wav', 'id10016/dOnuu_9-nyI/._00034.wav', 'id10016/dOnuu_9-nyI/._00024.wav', 'id10016/dOnuu_9-nyI/._00009.wav', 'id10016/dOnuu_9-nyI/._00044.wav', 'id10016/dOnuu_9-nyI/00022.wav', 'id10016/dOnuu_9-nyI/._00013.wav', 'id10016/dOnuu_9-nyI/00008.wav', 'id10016/dOnuu_9-nyI/00028.wav', 'id10016/dOnuu_9-nyI/00015.wav', 'id10016/dOnuu_9-nyI/._00023.wav', 'id10016/dOnuu_9-nyI/._00001.wav', 'id10016/dOnuu_9-nyI/._00026.wav', 'id10016/dOnuu_9-nyI/._00035.wav', 'id10016/dOnuu_9-nyI/._00017.wav', 'id10016/dOnuu_9-nyI/00038.wav', 'id10016/dOnuu_9-nyI/00024.wav', 'id10016/dOnuu_9-nyI/00004.wav', 'id10016/dOnuu_9-nyI/._00007.wav', 'id10016/dOnuu_9-nyI/00018.wav', 'id10016/dOnuu_9-nyI/._00045.wav', 'id10016/dOnuu_9-nyI/._00022.wav', 'id10016/dOnuu_9-nyI/00019.wav', 'id10016/dOnuu_9-nyI/00043.wav', 'id10016/dOnuu_9-nyI/._00015.wav', 'id10016/dOnuu_9-nyI/._00006.wav', 'id10016/dOnuu_9-nyI/._00040.wav', 'id10016/dOnuu_9-nyI/._00030.wav', 'id10016/dOnuu_9-nyI/00002.wav', 'id10016/dOnuu_9-nyI/00003.wav', 'id10016/dOnuu_9-nyI/._00041.wav', 'id10016/dOnuu_9-nyI/00011.wav', 'id10016/dOnuu_9-nyI/00001.wav', 'id10016/dOnuu_9-nyI/._00043.wav', 'id10016/dOnuu_9-nyI/00020.wav', 'id10016/dOnuu_9-nyI/._00039.wav', 'id10016/dOnuu_9-nyI/00041.wav', 'id10016/dOnuu_9-nyI/._00025.wav', 'id10016/dOnuu_9-nyI/00009.wav', 'id10016/dOnuu_9-nyI/._00010.wav', 'id10016/dOnuu_9-nyI/00005.wav', 'id10016/j0CaA8LPTdc/._00003.wav', 'id10016/j0CaA8LPTdc/._00002.wav', 'id10016/j0CaA8LPTdc/._00001.wav', 'id10016/j0CaA8LPTdc/00002.wav', 'id10016/j0CaA8LPTdc/00003.wav', 'id10016/j0CaA8LPTdc/00001.wav', 'id10016/a3j4Vg7CtjA/._00004.wav', 'id10016/a3j4Vg7CtjA/._00005.wav', 'id10016/a3j4Vg7CtjA/._00003.wav', 'id10016/a3j4Vg7CtjA/._00002.wav', 'id10016/a3j4Vg7CtjA/._00001.wav', 'id10016/a3j4Vg7CtjA/00004.wav', 'id10016/a3j4Vg7CtjA/00002.wav', 'id10016/a3j4Vg7CtjA/00003.wav', 'id10016/a3j4Vg7CtjA/00001.wav', 'id10016/a3j4Vg7CtjA/00005.wav', 'id10016/RREb7K-SoSQ/._00016.wav', 'id10016/RREb7K-SoSQ/00021.wav', 'id10016/RREb7K-SoSQ/00012.wav', 'id10016/RREb7K-SoSQ/._00012.wav', 'id10016/RREb7K-SoSQ/._00021.wav', 'id10016/RREb7K-SoSQ/00027.wav', 'id10016/RREb7K-SoSQ/00017.wav', 'id10016/RREb7K-SoSQ/00026.wav', 'id10016/RREb7K-SoSQ/._00020.wav', 'id10016/RREb7K-SoSQ/._00028.wav', 'id10016/RREb7K-SoSQ/00007.wav', 'id10016/RREb7K-SoSQ/00013.wav', 'id10016/RREb7K-SoSQ/00014.wav', 'id10016/RREb7K-SoSQ/._00027.wav', 'id10016/RREb7K-SoSQ/._00004.wav', 'id10016/RREb7K-SoSQ/._00019.wav', 'id10016/RREb7K-SoSQ/._00008.wav', 'id10016/RREb7K-SoSQ/._00011.wav', 'id10016/RREb7K-SoSQ/._00014.wav', 'id10016/RREb7K-SoSQ/00025.wav', 'id10016/RREb7K-SoSQ/00023.wav', 'id10016/RREb7K-SoSQ/._00005.wav', 'id10016/RREb7K-SoSQ/00016.wav', 'id10016/RREb7K-SoSQ/._00003.wav', 'id10016/RREb7K-SoSQ/._00002.wav', 'id10016/RREb7K-SoSQ/00010.wav', 'id10016/RREb7K-SoSQ/._00018.wav', 'id10016/RREb7K-SoSQ/00006.wav', 'id10016/RREb7K-SoSQ/._00024.wav', 'id10016/RREb7K-SoSQ/._00009.wav', 'id10016/RREb7K-SoSQ/00022.wav', 'id10016/RREb7K-SoSQ/._00013.wav', 'id10016/RREb7K-SoSQ/00008.wav', 'id10016/RREb7K-SoSQ/00028.wav', 'id10016/RREb7K-SoSQ/00015.wav', 'id10016/RREb7K-SoSQ/._00023.wav', 'id10016/RREb7K-SoSQ/._00001.wav', 'id10016/RREb7K-SoSQ/._00026.wav', 'id10016/RREb7K-SoSQ/._00017.wav', 'id10016/RREb7K-SoSQ/00024.wav', 'id10016/RREb7K-SoSQ/00004.wav', 'id10016/RREb7K-SoSQ/._00007.wav', 'id10016/RREb7K-SoSQ/00018.wav', 'id10016/RREb7K-SoSQ/._00022.wav', 'id10016/RREb7K-SoSQ/00019.wav', 'id10016/RREb7K-SoSQ/._00015.wav', 'id10016/RREb7K-SoSQ/._00006.wav', 'id10016/RREb7K-SoSQ/00002.wav', 'id10016/RREb7K-SoSQ/00003.wav', 'id10016/RREb7K-SoSQ/00011.wav', 'id10016/RREb7K-SoSQ/00001.wav', 'id10016/RREb7K-SoSQ/00020.wav', 'id10016/RREb7K-SoSQ/._00025.wav', 'id10016/RREb7K-SoSQ/00009.wav', 'id10016/RREb7K-SoSQ/._00010.wav', 'id10016/RREb7K-SoSQ/00005.wav', 'id10016/NJygdnZs634/._00003.wav', 'id10016/NJygdnZs634/._00002.wav', 'id10016/NJygdnZs634/._00001.wav', 'id10016/NJygdnZs634/00002.wav', 'id10016/NJygdnZs634/00003.wav', 'id10016/NJygdnZs634/00001.wav', 'id10016/Zxab80IZxU8/00007.wav', 'id10016/Zxab80IZxU8/._00004.wav', 'id10016/Zxab80IZxU8/._00008.wav', 'id10016/Zxab80IZxU8/._00005.wav', 'id10016/Zxab80IZxU8/._00003.wav', 'id10016/Zxab80IZxU8/._00002.wav', 'id10016/Zxab80IZxU8/00006.wav', 'id10016/Zxab80IZxU8/00008.wav', 'id10016/Zxab80IZxU8/._00001.wav', 'id10016/Zxab80IZxU8/00004.wav', 'id10016/Zxab80IZxU8/._00007.wav', 'id10016/Zxab80IZxU8/._00006.wav', 'id10016/Zxab80IZxU8/00002.wav', 'id10016/Zxab80IZxU8/00003.wav', 'id10016/Zxab80IZxU8/00001.wav', 'id10016/Zxab80IZxU8/00005.wav', 'id10016/LSeSZiv7evE/._00002.wav', 'id10016/LSeSZiv7evE/._00001.wav', 'id10016/LSeSZiv7evE/00002.wav', 'id10016/LSeSZiv7evE/00001.wav', 'id10016/hgB5ziAudzU/00007.wav', 'id10016/hgB5ziAudzU/._00004.wav', 'id10016/hgB5ziAudzU/._00008.wav', 'id10016/hgB5ziAudzU/._00005.wav', 'id10016/hgB5ziAudzU/._00003.wav', 'id10016/hgB5ziAudzU/._00002.wav', 'id10016/hgB5ziAudzU/00006.wav', 'id10016/hgB5ziAudzU/._00009.wav', 'id10016/hgB5ziAudzU/00008.wav', 'id10016/hgB5ziAudzU/._00001.wav', 'id10016/hgB5ziAudzU/00004.wav', 'id10016/hgB5ziAudzU/._00007.wav', 'id10016/hgB5ziAudzU/._00006.wav', 'id10016/hgB5ziAudzU/00002.wav', 'id10016/hgB5ziAudzU/00003.wav', 'id10016/hgB5ziAudzU/00001.wav', 'id10016/hgB5ziAudzU/00009.wav', 'id10016/hgB5ziAudzU/00005.wav', 'id10016/5xGJYiNH2Jw/._00016.wav', 'id10016/5xGJYiNH2Jw/00012.wav', 'id10016/5xGJYiNH2Jw/._00012.wav', 'id10016/5xGJYiNH2Jw/00017.wav', 'id10016/5xGJYiNH2Jw/00007.wav', 'id10016/5xGJYiNH2Jw/00013.wav', 'id10016/5xGJYiNH2Jw/00014.wav', 'id10016/5xGJYiNH2Jw/._00004.wav', 'id10016/5xGJYiNH2Jw/._00019.wav', 'id10016/5xGJYiNH2Jw/._00008.wav', 'id10016/5xGJYiNH2Jw/._00011.wav', 'id10016/5xGJYiNH2Jw/._00014.wav', 'id10016/5xGJYiNH2Jw/._00005.wav', 'id10016/5xGJYiNH2Jw/00016.wav', 'id10016/5xGJYiNH2Jw/._00003.wav', 'id10016/5xGJYiNH2Jw/._00002.wav', 'id10016/5xGJYiNH2Jw/00010.wav', 'id10016/5xGJYiNH2Jw/._00018.wav', 'id10016/5xGJYiNH2Jw/00006.wav', 'id10016/5xGJYiNH2Jw/._00009.wav', 'id10016/5xGJYiNH2Jw/._00013.wav', 'id10016/5xGJYiNH2Jw/00008.wav', 'id10016/5xGJYiNH2Jw/00015.wav', 'id10016/5xGJYiNH2Jw/._00001.wav', 'id10016/5xGJYiNH2Jw/._00017.wav', 'id10016/5xGJYiNH2Jw/00004.wav', 'id10016/5xGJYiNH2Jw/._00007.wav', 'id10016/5xGJYiNH2Jw/00018.wav', 'id10016/5xGJYiNH2Jw/00019.wav', 'id10016/5xGJYiNH2Jw/._00015.wav', 'id10016/5xGJYiNH2Jw/._00006.wav', 'id10016/5xGJYiNH2Jw/00002.wav', 'id10016/5xGJYiNH2Jw/00003.wav', 'id10016/5xGJYiNH2Jw/00011.wav', 'id10016/5xGJYiNH2Jw/00001.wav', 'id10016/5xGJYiNH2Jw/00009.wav', 'id10016/5xGJYiNH2Jw/._00010.wav', 'id10016/5xGJYiNH2Jw/00005.wav', 'id10016/o524HaR7jfE/._00016.wav', 'id10016/o524HaR7jfE/00029.wav', 'id10016/o524HaR7jfE/00021.wav', 'id10016/o524HaR7jfE/00012.wav', 'id10016/o524HaR7jfE/._00012.wav', 'id10016/o524HaR7jfE/._00021.wav', 'id10016/o524HaR7jfE/00027.wav', 'id10016/o524HaR7jfE/00017.wav', 'id10016/o524HaR7jfE/00026.wav', 'id10016/o524HaR7jfE/._00020.wav', 'id10016/o524HaR7jfE/._00028.wav', 'id10016/o524HaR7jfE/00007.wav', 'id10016/o524HaR7jfE/00013.wav', 'id10016/o524HaR7jfE/00014.wav', 'id10016/o524HaR7jfE/._00027.wav', 'id10016/o524HaR7jfE/._00004.wav', 'id10016/o524HaR7jfE/._00019.wav', 'id10016/o524HaR7jfE/._00008.wav', 'id10016/o524HaR7jfE/._00011.wav', 'id10016/o524HaR7jfE/._00014.wav', 'id10016/o524HaR7jfE/00025.wav', 'id10016/o524HaR7jfE/00023.wav', 'id10016/o524HaR7jfE/._00005.wav', 'id10016/o524HaR7jfE/00016.wav', 'id10016/o524HaR7jfE/._00003.wav', 'id10016/o524HaR7jfE/._00002.wav', 'id10016/o524HaR7jfE/._00029.wav', 'id10016/o524HaR7jfE/00010.wav', 'id10016/o524HaR7jfE/._00018.wav', 'id10016/o524HaR7jfE/00006.wav', 'id10016/o524HaR7jfE/._00024.wav', 'id10016/o524HaR7jfE/._00009.wav', 'id10016/o524HaR7jfE/00022.wav', 'id10016/o524HaR7jfE/._00013.wav', 'id10016/o524HaR7jfE/00008.wav', 'id10016/o524HaR7jfE/00028.wav', 'id10016/o524HaR7jfE/00015.wav', 'id10016/o524HaR7jfE/._00023.wav', 'id10016/o524HaR7jfE/._00001.wav', 'id10016/o524HaR7jfE/._00026.wav', 'id10016/o524HaR7jfE/._00017.wav', 'id10016/o524HaR7jfE/00024.wav', 'id10016/o524HaR7jfE/00004.wav', 'id10016/o524HaR7jfE/._00007.wav', 'id10016/o524HaR7jfE/00018.wav', 'id10016/o524HaR7jfE/._00022.wav', 'id10016/o524HaR7jfE/00019.wav', 'id10016/o524HaR7jfE/._00015.wav', 'id10016/o524HaR7jfE/._00006.wav', 'id10016/o524HaR7jfE/00002.wav', 'id10016/o524HaR7jfE/00003.wav', 'id10016/o524HaR7jfE/00011.wav', 'id10016/o524HaR7jfE/00001.wav', 'id10016/o524HaR7jfE/00020.wav', 'id10016/o524HaR7jfE/._00025.wav', 'id10016/o524HaR7jfE/00009.wav', 'id10016/o524HaR7jfE/._00010.wav', 'id10016/o524HaR7jfE/00005.wav', 'id10016/CsU9a10ccxA/._00002.wav', 'id10016/CsU9a10ccxA/._00001.wav', 'id10016/CsU9a10ccxA/00002.wav', 'id10016/CsU9a10ccxA/00001.wav', 'id10016/SCFgvk0Sm24/00012.wav', 'id10016/SCFgvk0Sm24/._00012.wav', 'id10016/SCFgvk0Sm24/00007.wav', 'id10016/SCFgvk0Sm24/00013.wav', 'id10016/SCFgvk0Sm24/00014.wav', 'id10016/SCFgvk0Sm24/._00004.wav', 'id10016/SCFgvk0Sm24/._00008.wav', 'id10016/SCFgvk0Sm24/._00011.wav', 'id10016/SCFgvk0Sm24/._00014.wav', 'id10016/SCFgvk0Sm24/._00005.wav', 'id10016/SCFgvk0Sm24/._00003.wav', 'id10016/SCFgvk0Sm24/._00002.wav', 'id10016/SCFgvk0Sm24/00010.wav', 'id10016/SCFgvk0Sm24/00006.wav', 'id10016/SCFgvk0Sm24/._00009.wav', 'id10016/SCFgvk0Sm24/._00013.wav', 'id10016/SCFgvk0Sm24/00008.wav', 'id10016/SCFgvk0Sm24/._00001.wav', 'id10016/SCFgvk0Sm24/00004.wav', 'id10016/SCFgvk0Sm24/._00007.wav', 'id10016/SCFgvk0Sm24/._00006.wav', 'id10016/SCFgvk0Sm24/00002.wav', 'id10016/SCFgvk0Sm24/00003.wav', 'id10016/SCFgvk0Sm24/00011.wav', 'id10016/SCFgvk0Sm24/00001.wav', 'id10016/SCFgvk0Sm24/00009.wav', 'id10016/SCFgvk0Sm24/._00010.wav', 'id10016/SCFgvk0Sm24/00005.wav', 'id10016/7OacMAs-Crc/00007.wav', 'id10016/7OacMAs-Crc/._00004.wav', 'id10016/7OacMAs-Crc/._00008.wav', 'id10016/7OacMAs-Crc/._00005.wav', 'id10016/7OacMAs-Crc/._00003.wav', 'id10016/7OacMAs-Crc/._00002.wav', 'id10016/7OacMAs-Crc/00006.wav', 'id10016/7OacMAs-Crc/._00009.wav', 'id10016/7OacMAs-Crc/00008.wav', 'id10016/7OacMAs-Crc/._00001.wav', 'id10016/7OacMAs-Crc/00004.wav', 'id10016/7OacMAs-Crc/._00007.wav', 'id10016/7OacMAs-Crc/._00006.wav', 'id10016/7OacMAs-Crc/00002.wav', 'id10016/7OacMAs-Crc/00003.wav', 'id10016/7OacMAs-Crc/00001.wav', 'id10016/7OacMAs-Crc/00009.wav', 'id10016/7OacMAs-Crc/00005.wav', 'id10016/8gWjr_-ROCc/._00002.wav', 'id10016/8gWjr_-ROCc/._00001.wav', 'id10016/8gWjr_-ROCc/00002.wav', 'id10016/8gWjr_-ROCc/00001.wav', 'id10016/2wHaOQUrkHU/._00001.wav', 'id10016/2wHaOQUrkHU/00001.wav', 'id10016/bIi7FnNx6m0/00012.wav', 'id10016/bIi7FnNx6m0/._00012.wav', 'id10016/bIi7FnNx6m0/00007.wav', 'id10016/bIi7FnNx6m0/00013.wav', 'id10016/bIi7FnNx6m0/00014.wav', 'id10016/bIi7FnNx6m0/._00004.wav', 'id10016/bIi7FnNx6m0/._00008.wav', 'id10016/bIi7FnNx6m0/._00011.wav', 'id10016/bIi7FnNx6m0/._00014.wav', 'id10016/bIi7FnNx6m0/._00005.wav', 'id10016/bIi7FnNx6m0/._00003.wav', 'id10016/bIi7FnNx6m0/._00002.wav', 'id10016/bIi7FnNx6m0/00010.wav', 'id10016/bIi7FnNx6m0/00006.wav', 'id10016/bIi7FnNx6m0/._00009.wav', 'id10016/bIi7FnNx6m0/._00013.wav', 'id10016/bIi7FnNx6m0/00008.wav', 'id10016/bIi7FnNx6m0/._00001.wav', 'id10016/bIi7FnNx6m0/00004.wav', 'id10016/bIi7FnNx6m0/._00007.wav', 'id10016/bIi7FnNx6m0/._00006.wav', 'id10016/bIi7FnNx6m0/00002.wav', 'id10016/bIi7FnNx6m0/00003.wav', 'id10016/bIi7FnNx6m0/00011.wav', 'id10016/bIi7FnNx6m0/00001.wav', 'id10016/bIi7FnNx6m0/00009.wav', 'id10016/bIi7FnNx6m0/._00010.wav', 'id10016/bIi7FnNx6m0/00005.wav', 'id10016/l5sY-WWVnZM/._00001.wav', 'id10016/l5sY-WWVnZM/00001.wav', 'id10016/WwguhI5dInQ/._00001.wav', 'id10016/WwguhI5dInQ/00001.wav', 'id10016/wg6IOBMAdOc/._00001.wav', 'id10016/wg6IOBMAdOc/00001.wav', 'id10016/WfkA4lUZwZ4/._00001.wav', 'id10016/WfkA4lUZwZ4/00001.wav', 'id10016/MPkuYnDHS4E/._00004.wav', 'id10016/MPkuYnDHS4E/._00003.wav', 'id10016/MPkuYnDHS4E/._00002.wav', 'id10016/MPkuYnDHS4E/._00001.wav', 'id10016/MPkuYnDHS4E/00004.wav', 'id10016/MPkuYnDHS4E/00002.wav', 'id10016/MPkuYnDHS4E/00003.wav', 'id10016/MPkuYnDHS4E/00001.wav', 'id10016/vpnw2jQlZn4/00007.wav', 'id10016/vpnw2jQlZn4/._00004.wav', 'id10016/vpnw2jQlZn4/._00008.wav', 'id10016/vpnw2jQlZn4/._00005.wav', 'id10016/vpnw2jQlZn4/._00003.wav', 'id10016/vpnw2jQlZn4/._00002.wav', 'id10016/vpnw2jQlZn4/00006.wav', 'id10016/vpnw2jQlZn4/00008.wav', 'id10016/vpnw2jQlZn4/._00001.wav', 'id10016/vpnw2jQlZn4/00004.wav', 'id10016/vpnw2jQlZn4/._00007.wav', 'id10016/vpnw2jQlZn4/._00006.wav', 'id10016/vpnw2jQlZn4/00002.wav', 'id10016/vpnw2jQlZn4/00003.wav', 'id10016/vpnw2jQlZn4/00001.wav', 'id10016/vpnw2jQlZn4/00005.wav', 'id10016/fb31EtxsZDs/._00001.wav', 'id10016/fb31EtxsZDs/00001.wav', 'id10016/uM5GCGOXVXc/._00003.wav', 'id10016/uM5GCGOXVXc/._00002.wav', 'id10016/uM5GCGOXVXc/._00001.wav', 'id10016/uM5GCGOXVXc/00002.wav', 'id10016/uM5GCGOXVXc/00003.wav', 'id10016/uM5GCGOXVXc/00001.wav', 'id10016/ocnz4PPv-RQ/._00004.wav', 'id10016/ocnz4PPv-RQ/._00003.wav', 'id10016/ocnz4PPv-RQ/._00002.wav', 'id10016/ocnz4PPv-RQ/._00001.wav', 'id10016/ocnz4PPv-RQ/00004.wav', 'id10016/ocnz4PPv-RQ/00002.wav', 'id10016/ocnz4PPv-RQ/00003.wav', 'id10016/ocnz4PPv-RQ/00001.wav', 'id10016/ywRolvE7ToY/00012.wav', 'id10016/ywRolvE7ToY/._00012.wav', 'id10016/ywRolvE7ToY/00007.wav', 'id10016/ywRolvE7ToY/00013.wav', 'id10016/ywRolvE7ToY/._00004.wav', 'id10016/ywRolvE7ToY/._00008.wav', 'id10016/ywRolvE7ToY/._00011.wav', 'id10016/ywRolvE7ToY/._00005.wav', 'id10016/ywRolvE7ToY/._00003.wav', 'id10016/ywRolvE7ToY/._00002.wav', 'id10016/ywRolvE7ToY/00010.wav', 'id10016/ywRolvE7ToY/00006.wav', 'id10016/ywRolvE7ToY/._00009.wav', 'id10016/ywRolvE7ToY/._00013.wav', 'id10016/ywRolvE7ToY/00008.wav', 'id10016/ywRolvE7ToY/._00001.wav', 'id10016/ywRolvE7ToY/00004.wav', 'id10016/ywRolvE7ToY/._00007.wav', 'id10016/ywRolvE7ToY/._00006.wav', 'id10016/ywRolvE7ToY/00002.wav', 'id10016/ywRolvE7ToY/00003.wav', 'id10016/ywRolvE7ToY/00011.wav', 'id10016/ywRolvE7ToY/00001.wav', 'id10016/ywRolvE7ToY/00009.wav', 'id10016/ywRolvE7ToY/._00010.wav', 'id10016/ywRolvE7ToY/00005.wav', 'id10016/PnSNt2F59-U/._00002.wav', 'id10016/PnSNt2F59-U/._00001.wav', 'id10016/PnSNt2F59-U/00002.wav', 'id10016/PnSNt2F59-U/00001.wav', 'id10016/37mbJ9bXK28/._00001.wav', 'id10016/37mbJ9bXK28/00001.wav', 'id10016/MMTrblYIEgM/._00001.wav', 'id10016/MMTrblYIEgM/00001.wav', 'id10016/FDXUYIgkTgk/._00004.wav', 'id10016/FDXUYIgkTgk/._00003.wav', 'id10016/FDXUYIgkTgk/._00002.wav', 'id10016/FDXUYIgkTgk/._00001.wav', 'id10016/FDXUYIgkTgk/00004.wav', 'id10016/FDXUYIgkTgk/00002.wav', 'id10016/FDXUYIgkTgk/00003.wav', 'id10016/FDXUYIgkTgk/00001.wav', 'id10016/k4l2cRqjT78/._00001.wav', 'id10016/k4l2cRqjT78/00001.wav', 'wav/id10019/._feJ12-O.wav', 'wav/id10019/._XYGmvRZ.wav', 'wav/id10019/._YLTaZK6.wav', 'wav/id10019/._ABpVMOt.wav', 'wav/id10019/._KjHVVTW.wav', 'wav/id10019/._N4ZN6AA.wav', 'wav/id10019/._FoACkHP.wav', 'wav/id10019/._nSpt6fR.wav', 'wav/id10019/._vw9WhRt.wav', 'wav/id10019/._5AfbbZo.wav', 'wav/id10019/._2vSPFNQ.wav', 'wav/id10019/._IipkRlg.wav', 'wav/id10019/._KPM7HF0.wav', 'wav/id10019/._dCpykP6.wav', 'wav/id10019/._cE3StI6.wav', 'id10019/KPM7HF0Xc18/00007.wav', 'id10019/KPM7HF0Xc18/._00004.wav', 'id10019/KPM7HF0Xc18/._00005.wav', 'id10019/KPM7HF0Xc18/._00003.wav', 'id10019/KPM7HF0Xc18/._00002.wav', 'id10019/KPM7HF0Xc18/00006.wav', 'id10019/KPM7HF0Xc18/._00001.wav', 'id10019/KPM7HF0Xc18/00004.wav', 'id10019/KPM7HF0Xc18/._00007.wav', 'id10019/KPM7HF0Xc18/._00006.wav', 'id10019/KPM7HF0Xc18/00002.wav', 'id10019/KPM7HF0Xc18/00003.wav', 'id10019/KPM7HF0Xc18/00001.wav', 'id10019/KPM7HF0Xc18/00005.wav', 'id10019/nSpt6fRmaV4/._00001.wav', 'id10019/nSpt6fRmaV4/00001.wav', 'id10019/cE3StI6Qw0w/._00001.wav', 'id10019/cE3StI6Qw0w/00001.wav', 'id10019/YLTaZK6x2z8/00007.wav', 'id10019/YLTaZK6x2z8/._00004.wav', 'id10019/YLTaZK6x2z8/._00005.wav', 'id10019/YLTaZK6x2z8/._00003.wav', 'id10019/YLTaZK6x2z8/._00002.wav', 'id10019/YLTaZK6x2z8/00006.wav', 'id10019/YLTaZK6x2z8/._00001.wav', 'id10019/YLTaZK6x2z8/00004.wav', 'id10019/YLTaZK6x2z8/._00007.wav', 'id10019/YLTaZK6x2z8/._00006.wav', 'id10019/YLTaZK6x2z8/00002.wav', 'id10019/YLTaZK6x2z8/00003.wav', 'id10019/YLTaZK6x2z8/00001.wav', 'id10019/YLTaZK6x2z8/00005.wav', 'id10019/2vSPFNQoKmk/00012.wav', 'id10019/2vSPFNQoKmk/._00012.wav', 'id10019/2vSPFNQoKmk/00007.wav', 'id10019/2vSPFNQoKmk/00013.wav', 'id10019/2vSPFNQoKmk/._00004.wav', 'id10019/2vSPFNQoKmk/._00008.wav', 'id10019/2vSPFNQoKmk/._00011.wav', 'id10019/2vSPFNQoKmk/._00005.wav', 'id10019/2vSPFNQoKmk/._00003.wav', 'id10019/2vSPFNQoKmk/._00002.wav', 'id10019/2vSPFNQoKmk/00010.wav', 'id10019/2vSPFNQoKmk/00006.wav', 'id10019/2vSPFNQoKmk/._00009.wav', 'id10019/2vSPFNQoKmk/._00013.wav', 'id10019/2vSPFNQoKmk/00008.wav', 'id10019/2vSPFNQoKmk/._00001.wav', 'id10019/2vSPFNQoKmk/00004.wav', 'id10019/2vSPFNQoKmk/._00007.wav', 'id10019/2vSPFNQoKmk/._00006.wav', 'id10019/2vSPFNQoKmk/00002.wav', 'id10019/2vSPFNQoKmk/00003.wav', 'id10019/2vSPFNQoKmk/00011.wav', 'id10019/2vSPFNQoKmk/00001.wav', 'id10019/2vSPFNQoKmk/00009.wav', 'id10019/2vSPFNQoKmk/._00010.wav', 'id10019/2vSPFNQoKmk/00005.wav', 'id10019/dCpykP6iJnA/._00003.wav', 'id10019/dCpykP6iJnA/._00002.wav', 'id10019/dCpykP6iJnA/._00001.wav', 'id10019/dCpykP6iJnA/00002.wav', 'id10019/dCpykP6iJnA/00003.wav', 'id10019/dCpykP6iJnA/00001.wav', 'id10019/IipkRlgAGC0/00007.wav', 'id10019/IipkRlgAGC0/._00004.wav', 'id10019/IipkRlgAGC0/._00008.wav', 'id10019/IipkRlgAGC0/._00005.wav', 'id10019/IipkRlgAGC0/._00003.wav', 'id10019/IipkRlgAGC0/._00002.wav', 'id10019/IipkRlgAGC0/00010.wav', 'id10019/IipkRlgAGC0/00006.wav', 'id10019/IipkRlgAGC0/._00009.wav', 'id10019/IipkRlgAGC0/00008.wav', 'id10019/IipkRlgAGC0/._00001.wav', 'id10019/IipkRlgAGC0/00004.wav', 'id10019/IipkRlgAGC0/._00007.wav', 'id10019/IipkRlgAGC0/._00006.wav', 'id10019/IipkRlgAGC0/00002.wav', 'id10019/IipkRlgAGC0/00003.wav', 'id10019/IipkRlgAGC0/00001.wav', 'id10019/IipkRlgAGC0/00009.wav', 'id10019/IipkRlgAGC0/._00010.wav', 'id10019/IipkRlgAGC0/00005.wav', 'id10019/vw9WhRtxRhE/._00001.wav', 'id10019/vw9WhRtxRhE/00001.wav', 'id10019/5AfbbZolonc/._00004.wav', 'id10019/5AfbbZolonc/._00005.wav', 'id10019/5AfbbZolonc/._00003.wav', 'id10019/5AfbbZolonc/._00002.wav', 'id10019/5AfbbZolonc/00006.wav', 'id10019/5AfbbZolonc/._00001.wav', 'id10019/5AfbbZolonc/00004.wav', 'id10019/5AfbbZolonc/._00006.wav', 'id10019/5AfbbZolonc/00002.wav', 'id10019/5AfbbZolonc/00003.wav', 'id10019/5AfbbZolonc/00001.wav', 'id10019/5AfbbZolonc/00005.wav', 'id10019/XYGmvRZiNNg/._00004.wav', 'id10019/XYGmvRZiNNg/._00003.wav', 'id10019/XYGmvRZiNNg/._00002.wav', 'id10019/XYGmvRZiNNg/._00001.wav', 'id10019/XYGmvRZiNNg/00004.wav', 'id10019/XYGmvRZiNNg/00002.wav', 'id10019/XYGmvRZiNNg/00003.wav', 'id10019/XYGmvRZiNNg/00001.wav', 'id10019/feJ12-OYVaU/00007.wav', 'id10019/feJ12-OYVaU/._00004.wav', 'id10019/feJ12-OYVaU/._00008.wav', 'id10019/feJ12-OYVaU/._00005.wav', 'id10019/feJ12-OYVaU/._00003.wav', 'id10019/feJ12-OYVaU/._00002.wav', 'id10019/feJ12-OYVaU/00006.wav', 'id10019/feJ12-OYVaU/._00009.wav', 'id10019/feJ12-OYVaU/00008.wav', 'id10019/feJ12-OYVaU/._00001.wav', 'id10019/feJ12-OYVaU/00004.wav', 'id10019/feJ12-OYVaU/._00007.wav', 'id10019/feJ12-OYVaU/._00006.wav', 'id10019/feJ12-OYVaU/00002.wav', 'id10019/feJ12-OYVaU/00003.wav', 'id10019/feJ12-OYVaU/00001.wav', 'id10019/feJ12-OYVaU/00009.wav', 'id10019/feJ12-OYVaU/00005.wav', 'id10019/N4ZN6AAv4vU/._00003.wav', 'id10019/N4ZN6AAv4vU/._00002.wav', 'id10019/N4ZN6AAv4vU/._00001.wav', 'id10019/N4ZN6AAv4vU/00002.wav', 'id10019/N4ZN6AAv4vU/00003.wav', 'id10019/N4ZN6AAv4vU/00001.wav', 'id10019/KjHVVTWafJQ/._00004.wav', 'id10019/KjHVVTWafJQ/._00003.wav', 'id10019/KjHVVTWafJQ/._00002.wav', 'id10019/KjHVVTWafJQ/._00001.wav', 'id10019/KjHVVTWafJQ/00004.wav', 'id10019/KjHVVTWafJQ/00002.wav', 'id10019/KjHVVTWafJQ/00003.wav', 'id10019/KjHVVTWafJQ/00001.wav', 'id10019/ABpVMOt0WEE/._00004.wav', 'id10019/ABpVMOt0WEE/._00005.wav', 'id10019/ABpVMOt0WEE/._00003.wav', 'id10019/ABpVMOt0WEE/._00002.wav', 'id10019/ABpVMOt0WEE/._00001.wav', 'id10019/ABpVMOt0WEE/00004.wav', 'id10019/ABpVMOt0WEE/00002.wav', 'id10019/ABpVMOt0WEE/00003.wav', 'id10019/ABpVMOt0WEE/00001.wav', 'id10019/ABpVMOt0WEE/00005.wav', 'id10019/FoACkHPFRTo/._00004.wav', 'id10019/FoACkHPFRTo/._00003.wav', 'id10019/FoACkHPFRTo/._00002.wav', 'id10019/FoACkHPFRTo/._00001.wav', 'id10019/FoACkHPFRTo/00004.wav', 'id10019/FoACkHPFRTo/00002.wav', 'id10019/FoACkHPFRTo/00003.wav', 'id10019/FoACkHPFRTo/00001.wav', 'wav/id10009/._JntZkGs.wav', 'wav/id10009/._EJ3tyqG.wav', 'wav/id10009/._seo9TTT.wav', 'wav/id10009/._x_HdUZu.wav', 'wav/id10009/._vy8sQ82.wav', 'wav/id10009/._VM8gJWb.wav', 'wav/id10009/._FOFbkVl.wav', 'wav/id10009/._JrwqvWr.wav', 'wav/id10009/.DS_S.wav', 'wav/id10009/._AtavJVP.wav', 'wav/id10009/._sQIqfA-.wav', 'wav/id10009/._7hpSiT9.wav', 'wav/id10009/._.DS_S.wav', 'wav/id10009/._HCGXIgK.wav', 'wav/id10009/._aFttHpe.wav', 'wav/id10009/._qdop2-g.wav', 'id10009/vy8sQ82o0fM/00007.wav', 'id10009/vy8sQ82o0fM/._00004.wav', 'id10009/vy8sQ82o0fM/._00005.wav', 'id10009/vy8sQ82o0fM/._00003.wav', 'id10009/vy8sQ82o0fM/._00002.wav', 'id10009/vy8sQ82o0fM/00006.wav', 'id10009/vy8sQ82o0fM/._00001.wav', 'id10009/vy8sQ82o0fM/00004.wav', 'id10009/vy8sQ82o0fM/._00007.wav', 'id10009/vy8sQ82o0fM/._00006.wav', 'id10009/vy8sQ82o0fM/00002.wav', 'id10009/vy8sQ82o0fM/00003.wav', 'id10009/vy8sQ82o0fM/00001.wav', 'id10009/vy8sQ82o0fM/00005.wav', 'id10009/aFttHpeaXaQ/._00001.wav', 'id10009/aFttHpeaXaQ/00001.wav', 'id10009/EJ3tyqGqYfw/._00001.wav', 'id10009/EJ3tyqGqYfw/00001.wav', 'id10009/VM8gJWbQsEY/._00004.wav', 'id10009/VM8gJWbQsEY/._00005.wav', 'id10009/VM8gJWbQsEY/._00003.wav', 'id10009/VM8gJWbQsEY/._00002.wav', 'id10009/VM8gJWbQsEY/._00001.wav', 'id10009/VM8gJWbQsEY/00004.wav', 'id10009/VM8gJWbQsEY/00002.wav', 'id10009/VM8gJWbQsEY/00003.wav', 'id10009/VM8gJWbQsEY/00001.wav', 'id10009/VM8gJWbQsEY/00005.wav', 'id10009/FOFbkVlz-wQ/._00002.wav', 'id10009/FOFbkVlz-wQ/._00001.wav', 'id10009/FOFbkVlz-wQ/00002.wav', 'id10009/FOFbkVlz-wQ/00001.wav', 'id10009/sQIqfA-I_Ew/00012.wav', 'id10009/sQIqfA-I_Ew/._00012.wav', 'id10009/sQIqfA-I_Ew/00007.wav', 'id10009/sQIqfA-I_Ew/00013.wav', 'id10009/sQIqfA-I_Ew/._00004.wav', 'id10009/sQIqfA-I_Ew/._00008.wav', 'id10009/sQIqfA-I_Ew/._00011.wav', 'id10009/sQIqfA-I_Ew/._00005.wav', 'id10009/sQIqfA-I_Ew/._00003.wav', 'id10009/sQIqfA-I_Ew/._00002.wav', 'id10009/sQIqfA-I_Ew/00010.wav', 'id10009/sQIqfA-I_Ew/00006.wav', 'id10009/sQIqfA-I_Ew/._00009.wav', 'id10009/sQIqfA-I_Ew/._00013.wav', 'id10009/sQIqfA-I_Ew/00008.wav', 'id10009/sQIqfA-I_Ew/._00001.wav', 'id10009/sQIqfA-I_Ew/00004.wav', 'id10009/sQIqfA-I_Ew/._00007.wav', 'id10009/sQIqfA-I_Ew/._00006.wav', 'id10009/sQIqfA-I_Ew/00002.wav', 'id10009/sQIqfA-I_Ew/00003.wav', 'id10009/sQIqfA-I_Ew/00011.wav', 'id10009/sQIqfA-I_Ew/00001.wav', 'id10009/sQIqfA-I_Ew/00009.wav', 'id10009/sQIqfA-I_Ew/._00010.wav', 'id10009/sQIqfA-I_Ew/00005.wav', 'id10009/7hpSiT9_gCE/._00001.wav', 'id10009/7hpSiT9_gCE/00001.wav', 'id10009/AtavJVP4bCk/00007.wav', 'id10009/AtavJVP4bCk/._00004.wav', 'id10009/AtavJVP4bCk/._00008.wav', 'id10009/AtavJVP4bCk/._00005.wav', 'id10009/AtavJVP4bCk/._00003.wav', 'id10009/AtavJVP4bCk/._00002.wav', 'id10009/AtavJVP4bCk/00006.wav', 'id10009/AtavJVP4bCk/._00009.wav', 'id10009/AtavJVP4bCk/00008.wav', 'id10009/AtavJVP4bCk/._00001.wav', 'id10009/AtavJVP4bCk/00004.wav', 'id10009/AtavJVP4bCk/._00007.wav', 'id10009/AtavJVP4bCk/._00006.wav', 'id10009/AtavJVP4bCk/00002.wav', 'id10009/AtavJVP4bCk/00003.wav', 'id10009/AtavJVP4bCk/00001.wav', 'id10009/AtavJVP4bCk/00009.wav', 'id10009/AtavJVP4bCk/00005.wav', 'id10009/JrwqvWr5_VE/00007.wav', 'id10009/JrwqvWr5_VE/._00004.wav', 'id10009/JrwqvWr5_VE/._00008.wav', 'id10009/JrwqvWr5_VE/._00005.wav', 'id10009/JrwqvWr5_VE/._00003.wav', 'id10009/JrwqvWr5_VE/._00002.wav', 'id10009/JrwqvWr5_VE/00006.wav', 'id10009/JrwqvWr5_VE/._00009.wav', 'id10009/JrwqvWr5_VE/00008.wav', 'id10009/JrwqvWr5_VE/._00001.wav', 'id10009/JrwqvWr5_VE/00004.wav', 'id10009/JrwqvWr5_VE/._00007.wav', 'id10009/JrwqvWr5_VE/._00006.wav', 'id10009/JrwqvWr5_VE/00002.wav', 'id10009/JrwqvWr5_VE/00003.wav', 'id10009/JrwqvWr5_VE/00001.wav', 'id10009/JrwqvWr5_VE/00009.wav', 'id10009/JrwqvWr5_VE/00005.wav', 'id10009/qdop2-gjKBQ/._00002.wav', 'id10009/qdop2-gjKBQ/._00001.wav', 'id10009/qdop2-gjKBQ/00002.wav', 'id10009/qdop2-gjKBQ/00001.wav', 'id10009/seo9TTTEoE4/._00002.wav', 'id10009/seo9TTTEoE4/._00001.wav', 'id10009/seo9TTTEoE4/00002.wav', 'id10009/seo9TTTEoE4/00001.wav', 'id10009/x_HdUZuSusA/._00002.wav', 'id10009/x_HdUZuSusA/._00001.wav', 'id10009/x_HdUZuSusA/00002.wav', 'id10009/x_HdUZuSusA/00001.wav', 'id10009/HCGXIgKsozU/._00001.wav', 'id10009/HCGXIgKsozU/00001.wav', 'id10009/JntZkGsH2Cc/._00004.wav', 'id10009/JntZkGsH2Cc/._00003.wav', 'id10009/JntZkGsH2Cc/._00002.wav', 'id10009/JntZkGsH2Cc/._00001.wav', 'id10009/JntZkGsH2Cc/00004.wav', 'id10009/JntZkGsH2Cc/00002.wav', 'id10009/JntZkGsH2Cc/00003.wav', 'id10009/JntZkGsH2Cc/00001.wav', 'wav/id10017/._xLakEK2.wav', 'wav/id10017/._7QOGR0z.wav', 'wav/id10017/._iwN6Hu6.wav', 'wav/id10017/._BuecddE.wav', 'wav/id10017/._PynZ3bQ.wav', 'wav/id10017/._8rp9UYZ.wav', 'wav/id10017/._xH3Pp_5.wav', 'wav/id10017/._6ya9Upd.wav', 'wav/id10017/._Px9R6A3.wav', 'wav/id10017/._bNNIcOJ.wav', 'wav/id10017/._CYb_opU.wav', 'wav/id10017/._5r-26vN.wav', 'wav/id10017/._Pkfu9rK.wav', 'wav/id10017/._5VxX7ZI.wav', 'wav/id10017/._qFUUDSj.wav', 'wav/id10017/._uy0-9hp.wav', 'wav/id10017/._pOJlOI5.wav', 'id10017/qFUUDSjCy5M/00007.wav', 'id10017/qFUUDSjCy5M/._00004.wav', 'id10017/qFUUDSjCy5M/._00008.wav', 'id10017/qFUUDSjCy5M/._00005.wav', 'id10017/qFUUDSjCy5M/._00003.wav', 'id10017/qFUUDSjCy5M/._00002.wav', 'id10017/qFUUDSjCy5M/00006.wav', 'id10017/qFUUDSjCy5M/00008.wav', 'id10017/qFUUDSjCy5M/._00001.wav', 'id10017/qFUUDSjCy5M/00004.wav', 'id10017/qFUUDSjCy5M/._00007.wav', 'id10017/qFUUDSjCy5M/._00006.wav', 'id10017/qFUUDSjCy5M/00002.wav', 'id10017/qFUUDSjCy5M/00003.wav', 'id10017/qFUUDSjCy5M/00001.wav', 'id10017/qFUUDSjCy5M/00005.wav', 'id10017/bNNIcOJGy4w/._00004.wav', 'id10017/bNNIcOJGy4w/._00003.wav', 'id10017/bNNIcOJGy4w/._00002.wav', 'id10017/bNNIcOJGy4w/._00001.wav', 'id10017/bNNIcOJGy4w/00004.wav', 'id10017/bNNIcOJGy4w/00002.wav', 'id10017/bNNIcOJGy4w/00003.wav', 'id10017/bNNIcOJGy4w/00001.wav', 'id10017/CYb_opUpiw4/._00016.wav', 'id10017/CYb_opUpiw4/00030.wav', 'id10017/CYb_opUpiw4/00029.wav', 'id10017/CYb_opUpiw4/00021.wav', 'id10017/CYb_opUpiw4/00012.wav', 'id10017/CYb_opUpiw4/._00012.wav', 'id10017/CYb_opUpiw4/._00021.wav', 'id10017/CYb_opUpiw4/00027.wav', 'id10017/CYb_opUpiw4/00017.wav', 'id10017/CYb_opUpiw4/00026.wav', 'id10017/CYb_opUpiw4/._00020.wav', 'id10017/CYb_opUpiw4/._00028.wav', 'id10017/CYb_opUpiw4/00007.wav', 'id10017/CYb_opUpiw4/00013.wav', 'id10017/CYb_opUpiw4/00014.wav', 'id10017/CYb_opUpiw4/._00027.wav', 'id10017/CYb_opUpiw4/._00004.wav', 'id10017/CYb_opUpiw4/._00019.wav', 'id10017/CYb_opUpiw4/._00008.wav', 'id10017/CYb_opUpiw4/._00011.wav', 'id10017/CYb_opUpiw4/._00014.wav', 'id10017/CYb_opUpiw4/00025.wav', 'id10017/CYb_opUpiw4/00023.wav', 'id10017/CYb_opUpiw4/._00005.wav', 'id10017/CYb_opUpiw4/00016.wav', 'id10017/CYb_opUpiw4/._00003.wav', 'id10017/CYb_opUpiw4/._00002.wav', 'id10017/CYb_opUpiw4/._00029.wav', 'id10017/CYb_opUpiw4/00010.wav', 'id10017/CYb_opUpiw4/._00018.wav', 'id10017/CYb_opUpiw4/00006.wav', 'id10017/CYb_opUpiw4/._00024.wav', 'id10017/CYb_opUpiw4/._00009.wav', 'id10017/CYb_opUpiw4/00022.wav', 'id10017/CYb_opUpiw4/._00013.wav', 'id10017/CYb_opUpiw4/00008.wav', 'id10017/CYb_opUpiw4/00028.wav', 'id10017/CYb_opUpiw4/00015.wav', 'id10017/CYb_opUpiw4/._00023.wav', 'id10017/CYb_opUpiw4/._00001.wav', 'id10017/CYb_opUpiw4/._00026.wav', 'id10017/CYb_opUpiw4/._00017.wav', 'id10017/CYb_opUpiw4/00024.wav', 'id10017/CYb_opUpiw4/00004.wav', 'id10017/CYb_opUpiw4/._00007.wav', 'id10017/CYb_opUpiw4/00018.wav', 'id10017/CYb_opUpiw4/._00022.wav', 'id10017/CYb_opUpiw4/00019.wav', 'id10017/CYb_opUpiw4/._00015.wav', 'id10017/CYb_opUpiw4/._00006.wav', 'id10017/CYb_opUpiw4/._00030.wav', 'id10017/CYb_opUpiw4/00002.wav', 'id10017/CYb_opUpiw4/00003.wav', 'id10017/CYb_opUpiw4/00011.wav', 'id10017/CYb_opUpiw4/00001.wav', 'id10017/CYb_opUpiw4/00020.wav', 'id10017/CYb_opUpiw4/._00025.wav', 'id10017/CYb_opUpiw4/00009.wav', 'id10017/CYb_opUpiw4/._00010.wav', 'id10017/CYb_opUpiw4/00005.wav', 'id10017/xH3Pp_5yxOk/._00016.wav', 'id10017/xH3Pp_5yxOk/00021.wav', 'id10017/xH3Pp_5yxOk/00012.wav', 'id10017/xH3Pp_5yxOk/._00012.wav', 'id10017/xH3Pp_5yxOk/._00021.wav', 'id10017/xH3Pp_5yxOk/00017.wav', 'id10017/xH3Pp_5yxOk/._00020.wav', 'id10017/xH3Pp_5yxOk/00007.wav', 'id10017/xH3Pp_5yxOk/00013.wav', 'id10017/xH3Pp_5yxOk/00014.wav', 'id10017/xH3Pp_5yxOk/._00004.wav', 'id10017/xH3Pp_5yxOk/._00019.wav', 'id10017/xH3Pp_5yxOk/._00008.wav', 'id10017/xH3Pp_5yxOk/._00011.wav', 'id10017/xH3Pp_5yxOk/._00014.wav', 'id10017/xH3Pp_5yxOk/00023.wav', 'id10017/xH3Pp_5yxOk/._00005.wav', 'id10017/xH3Pp_5yxOk/00016.wav', 'id10017/xH3Pp_5yxOk/._00003.wav', 'id10017/xH3Pp_5yxOk/._00002.wav', 'id10017/xH3Pp_5yxOk/00010.wav', 'id10017/xH3Pp_5yxOk/._00018.wav', 'id10017/xH3Pp_5yxOk/00006.wav', 'id10017/xH3Pp_5yxOk/._00009.wav', 'id10017/xH3Pp_5yxOk/00022.wav', 'id10017/xH3Pp_5yxOk/._00013.wav', 'id10017/xH3Pp_5yxOk/00008.wav', 'id10017/xH3Pp_5yxOk/00015.wav', 'id10017/xH3Pp_5yxOk/._00023.wav', 'id10017/xH3Pp_5yxOk/._00001.wav', 'id10017/xH3Pp_5yxOk/._00017.wav', 'id10017/xH3Pp_5yxOk/00004.wav', 'id10017/xH3Pp_5yxOk/._00007.wav', 'id10017/xH3Pp_5yxOk/00018.wav', 'id10017/xH3Pp_5yxOk/._00022.wav', 'id10017/xH3Pp_5yxOk/00019.wav', 'id10017/xH3Pp_5yxOk/._00015.wav', 'id10017/xH3Pp_5yxOk/._00006.wav', 'id10017/xH3Pp_5yxOk/00002.wav', 'id10017/xH3Pp_5yxOk/00003.wav', 'id10017/xH3Pp_5yxOk/00011.wav', 'id10017/xH3Pp_5yxOk/00001.wav', 'id10017/xH3Pp_5yxOk/00020.wav', 'id10017/xH3Pp_5yxOk/00009.wav', 'id10017/xH3Pp_5yxOk/._00010.wav', 'id10017/xH3Pp_5yxOk/00005.wav', 'id10017/pOJlOI5cDZw/._00004.wav', 'id10017/pOJlOI5cDZw/._00005.wav', 'id10017/pOJlOI5cDZw/._00003.wav', 'id10017/pOJlOI5cDZw/._00002.wav', 'id10017/pOJlOI5cDZw/00006.wav', 'id10017/pOJlOI5cDZw/._00001.wav', 'id10017/pOJlOI5cDZw/00004.wav', 'id10017/pOJlOI5cDZw/._00006.wav', 'id10017/pOJlOI5cDZw/00002.wav', 'id10017/pOJlOI5cDZw/00003.wav', 'id10017/pOJlOI5cDZw/00001.wav', 'id10017/pOJlOI5cDZw/00005.wav', 'id10017/5r-26vNFeJU/00007.wav', 'id10017/5r-26vNFeJU/._00004.wav', 'id10017/5r-26vNFeJU/._00008.wav', 'id10017/5r-26vNFeJU/._00005.wav', 'id10017/5r-26vNFeJU/._00003.wav', 'id10017/5r-26vNFeJU/._00002.wav', 'id10017/5r-26vNFeJU/00010.wav', 'id10017/5r-26vNFeJU/00006.wav', 'id10017/5r-26vNFeJU/._00009.wav', 'id10017/5r-26vNFeJU/00008.wav', 'id10017/5r-26vNFeJU/._00001.wav', 'id10017/5r-26vNFeJU/00004.wav', 'id10017/5r-26vNFeJU/._00007.wav', 'id10017/5r-26vNFeJU/._00006.wav', 'id10017/5r-26vNFeJU/00002.wav', 'id10017/5r-26vNFeJU/00003.wav', 'id10017/5r-26vNFeJU/00001.wav', 'id10017/5r-26vNFeJU/00009.wav', 'id10017/5r-26vNFeJU/._00010.wav', 'id10017/5r-26vNFeJU/00005.wav', 'id10017/5VxX7ZI5z5s/._00004.wav', 'id10017/5VxX7ZI5z5s/._00005.wav', 'id10017/5VxX7ZI5z5s/._00003.wav', 'id10017/5VxX7ZI5z5s/._00002.wav', 'id10017/5VxX7ZI5z5s/00006.wav', 'id10017/5VxX7ZI5z5s/._00001.wav', 'id10017/5VxX7ZI5z5s/00004.wav', 'id10017/5VxX7ZI5z5s/._00006.wav', 'id10017/5VxX7ZI5z5s/00002.wav', 'id10017/5VxX7ZI5z5s/00003.wav', 'id10017/5VxX7ZI5z5s/00001.wav', 'id10017/5VxX7ZI5z5s/00005.wav', 'id10017/xLakEK2bbQw/._00004.wav', 'id10017/xLakEK2bbQw/._00003.wav', 'id10017/xLakEK2bbQw/._00002.wav', 'id10017/xLakEK2bbQw/._00001.wav', 'id10017/xLakEK2bbQw/00004.wav', 'id10017/xLakEK2bbQw/00002.wav', 'id10017/xLakEK2bbQw/00003.wav', 'id10017/xLakEK2bbQw/00001.wav', 'id10017/PynZ3bQ3Ga4/._00002.wav', 'id10017/PynZ3bQ3Ga4/._00001.wav', 'id10017/PynZ3bQ3Ga4/00002.wav', 'id10017/PynZ3bQ3Ga4/00001.wav', 'id10017/6ya9UpdRCPs/._00002.wav', 'id10017/6ya9UpdRCPs/._00001.wav', 'id10017/6ya9UpdRCPs/00002.wav', 'id10017/6ya9UpdRCPs/00001.wav', 'id10017/BuecddErOwU/._00016.wav', 'id10017/BuecddErOwU/00012.wav', 'id10017/BuecddErOwU/._00012.wav', 'id10017/BuecddErOwU/00017.wav', 'id10017/BuecddErOwU/00007.wav', 'id10017/BuecddErOwU/00013.wav', 'id10017/BuecddErOwU/00014.wav', 'id10017/BuecddErOwU/._00004.wav', 'id10017/BuecddErOwU/._00008.wav', 'id10017/BuecddErOwU/._00011.wav', 'id10017/BuecddErOwU/._00014.wav', 'id10017/BuecddErOwU/._00005.wav', 'id10017/BuecddErOwU/00016.wav', 'id10017/BuecddErOwU/._00003.wav', 'id10017/BuecddErOwU/._00002.wav', 'id10017/BuecddErOwU/00010.wav', 'id10017/BuecddErOwU/._00018.wav', 'id10017/BuecddErOwU/00006.wav', 'id10017/BuecddErOwU/._00009.wav', 'id10017/BuecddErOwU/._00013.wav', 'id10017/BuecddErOwU/00008.wav', 'id10017/BuecddErOwU/00015.wav', 'id10017/BuecddErOwU/._00001.wav', 'id10017/BuecddErOwU/._00017.wav', 'id10017/BuecddErOwU/00004.wav', 'id10017/BuecddErOwU/._00007.wav', 'id10017/BuecddErOwU/00018.wav', 'id10017/BuecddErOwU/._00015.wav', 'id10017/BuecddErOwU/._00006.wav', 'id10017/BuecddErOwU/00002.wav', 'id10017/BuecddErOwU/00003.wav', 'id10017/BuecddErOwU/00011.wav', 'id10017/BuecddErOwU/00001.wav', 'id10017/BuecddErOwU/00009.wav', 'id10017/BuecddErOwU/._00010.wav', 'id10017/BuecddErOwU/00005.wav', 'id10017/7QOGR0zvTxY/._00002.wav', 'id10017/7QOGR0zvTxY/._00001.wav', 'id10017/7QOGR0zvTxY/00002.wav', 'id10017/7QOGR0zvTxY/00001.wav', 'id10017/Px9R6A3XKDM/._00004.wav', 'id10017/Px9R6A3XKDM/._00003.wav', 'id10017/Px9R6A3XKDM/._00002.wav', 'id10017/Px9R6A3XKDM/._00001.wav', 'id10017/Px9R6A3XKDM/00004.wav', 'id10017/Px9R6A3XKDM/00002.wav', 'id10017/Px9R6A3XKDM/00003.wav', 'id10017/Px9R6A3XKDM/00001.wav', 'id10017/8rp9UYZp-zA/._00016.wav', 'id10017/8rp9UYZp-zA/00012.wav', 'id10017/8rp9UYZp-zA/._00012.wav', 'id10017/8rp9UYZp-zA/00017.wav', 'id10017/8rp9UYZp-zA/00007.wav', 'id10017/8rp9UYZp-zA/00013.wav', 'id10017/8rp9UYZp-zA/00014.wav', 'id10017/8rp9UYZp-zA/._00004.wav', 'id10017/8rp9UYZp-zA/._00008.wav', 'id10017/8rp9UYZp-zA/._00011.wav', 'id10017/8rp9UYZp-zA/._00014.wav', 'id10017/8rp9UYZp-zA/._00005.wav', 'id10017/8rp9UYZp-zA/00016.wav', 'id10017/8rp9UYZp-zA/._00003.wav', 'id10017/8rp9UYZp-zA/._00002.wav', 'id10017/8rp9UYZp-zA/00010.wav', 'id10017/8rp9UYZp-zA/._00018.wav', 'id10017/8rp9UYZp-zA/00006.wav', 'id10017/8rp9UYZp-zA/._00009.wav', 'id10017/8rp9UYZp-zA/._00013.wav', 'id10017/8rp9UYZp-zA/00008.wav', 'id10017/8rp9UYZp-zA/00015.wav', 'id10017/8rp9UYZp-zA/._00001.wav', 'id10017/8rp9UYZp-zA/._00017.wav', 'id10017/8rp9UYZp-zA/00004.wav', 'id10017/8rp9UYZp-zA/._00007.wav', 'id10017/8rp9UYZp-zA/00018.wav', 'id10017/8rp9UYZp-zA/._00015.wav', 'id10017/8rp9UYZp-zA/._00006.wav', 'id10017/8rp9UYZp-zA/00002.wav', 'id10017/8rp9UYZp-zA/00003.wav', 'id10017/8rp9UYZp-zA/00011.wav', 'id10017/8rp9UYZp-zA/00001.wav', 'id10017/8rp9UYZp-zA/00009.wav', 'id10017/8rp9UYZp-zA/._00010.wav', 'id10017/8rp9UYZp-zA/00005.wav', 'id10017/iwN6Hu6xyM0/._00004.wav', 'id10017/iwN6Hu6xyM0/._00005.wav', 'id10017/iwN6Hu6xyM0/._00003.wav', 'id10017/iwN6Hu6xyM0/._00002.wav', 'id10017/iwN6Hu6xyM0/00006.wav', 'id10017/iwN6Hu6xyM0/._00001.wav', 'id10017/iwN6Hu6xyM0/00004.wav', 'id10017/iwN6Hu6xyM0/._00006.wav', 'id10017/iwN6Hu6xyM0/00002.wav', 'id10017/iwN6Hu6xyM0/00003.wav', 'id10017/iwN6Hu6xyM0/00001.wav', 'id10017/iwN6Hu6xyM0/00005.wav', 'id10017/uy0-9hpmHJs/._00002.wav', 'id10017/uy0-9hpmHJs/._00001.wav', 'id10017/uy0-9hpmHJs/00002.wav', 'id10017/uy0-9hpmHJs/00001.wav', 'id10017/Pkfu9rKM5QA/00007.wav', 'id10017/Pkfu9rKM5QA/._00004.wav', 'id10017/Pkfu9rKM5QA/._00005.wav', 'id10017/Pkfu9rKM5QA/._00003.wav', 'id10017/Pkfu9rKM5QA/._00002.wav', 'id10017/Pkfu9rKM5QA/00006.wav', 'id10017/Pkfu9rKM5QA/._00001.wav', 'id10017/Pkfu9rKM5QA/00004.wav', 'id10017/Pkfu9rKM5QA/._00007.wav', 'id10017/Pkfu9rKM5QA/._00006.wav', 'id10017/Pkfu9rKM5QA/00002.wav', 'id10017/Pkfu9rKM5QA/00003.wav', 'id10017/Pkfu9rKM5QA/00001.wav', 'id10017/Pkfu9rKM5QA/00005.wav', 'wav/id10001/._7gWzIy6.wav', 'wav/id10001/._1zcIwhm.wav', 'wav/id10001/._eWIX7sf.wav', 'wav/id10001/._J9lHsKG.wav', 'wav/id10001/._9mQ11vB.wav', 'wav/id10001/._7w0IBEW.wav', 'wav/id10001/._zELwAz2.wav', 'wav/id10001/._utrA-v8.wav', 'wav/id10001/._Y8hIVOB.wav', 'wav/id10001/._DtdEYdV.wav', 'id10001/zELwAz2W6hM/00012.wav', 'id10001/zELwAz2W6hM/._00012.wav', 'id10001/zELwAz2W6hM/00007.wav', 'id10001/zELwAz2W6hM/00013.wav', 'id10001/zELwAz2W6hM/00014.wav', 'id10001/zELwAz2W6hM/._00004.wav', 'id10001/zELwAz2W6hM/._00008.wav', 'id10001/zELwAz2W6hM/._00011.wav', 'id10001/zELwAz2W6hM/._00014.wav', 'id10001/zELwAz2W6hM/._00005.wav', 'id10001/zELwAz2W6hM/._00003.wav', 'id10001/zELwAz2W6hM/._00002.wav', 'id10001/zELwAz2W6hM/00010.wav', 'id10001/zELwAz2W6hM/00006.wav', 'id10001/zELwAz2W6hM/._00009.wav', 'id10001/zELwAz2W6hM/._00013.wav', 'id10001/zELwAz2W6hM/00008.wav', 'id10001/zELwAz2W6hM/00015.wav', 'id10001/zELwAz2W6hM/._00001.wav', 'id10001/zELwAz2W6hM/00004.wav', 'id10001/zELwAz2W6hM/._00007.wav', 'id10001/zELwAz2W6hM/._00015.wav', 'id10001/zELwAz2W6hM/._00006.wav', 'id10001/zELwAz2W6hM/00002.wav', 'id10001/zELwAz2W6hM/00003.wav', 'id10001/zELwAz2W6hM/00011.wav', 'id10001/zELwAz2W6hM/00001.wav', 'id10001/zELwAz2W6hM/00009.wav', 'id10001/zELwAz2W6hM/._00010.wav', 'id10001/zELwAz2W6hM/00005.wav', 'id10001/1zcIwhmdeo4/._00003.wav', 'id10001/1zcIwhmdeo4/._00002.wav', 'id10001/1zcIwhmdeo4/._00001.wav', 'id10001/1zcIwhmdeo4/00002.wav', 'id10001/1zcIwhmdeo4/00003.wav', 'id10001/1zcIwhmdeo4/00001.wav', 'id10001/J9lHsKG98U8/._00016.wav', 'id10001/J9lHsKG98U8/00021.wav', 'id10001/J9lHsKG98U8/00012.wav', 'id10001/J9lHsKG98U8/._00012.wav', 'id10001/J9lHsKG98U8/._00021.wav', 'id10001/J9lHsKG98U8/00017.wav', 'id10001/J9lHsKG98U8/00026.wav', 'id10001/J9lHsKG98U8/._00020.wav', 'id10001/J9lHsKG98U8/00007.wav', 'id10001/J9lHsKG98U8/00013.wav', 'id10001/J9lHsKG98U8/00014.wav', 'id10001/J9lHsKG98U8/._00004.wav', 'id10001/J9lHsKG98U8/._00019.wav', 'id10001/J9lHsKG98U8/._00008.wav', 'id10001/J9lHsKG98U8/._00011.wav', 'id10001/J9lHsKG98U8/._00014.wav', 'id10001/J9lHsKG98U8/00025.wav', 'id10001/J9lHsKG98U8/00023.wav', 'id10001/J9lHsKG98U8/._00005.wav', 'id10001/J9lHsKG98U8/00016.wav', 'id10001/J9lHsKG98U8/._00003.wav', 'id10001/J9lHsKG98U8/._00002.wav', 'id10001/J9lHsKG98U8/00010.wav', 'id10001/J9lHsKG98U8/._00018.wav', 'id10001/J9lHsKG98U8/00006.wav', 'id10001/J9lHsKG98U8/._00024.wav', 'id10001/J9lHsKG98U8/._00009.wav', 'id10001/J9lHsKG98U8/00022.wav', 'id10001/J9lHsKG98U8/._00013.wav', 'id10001/J9lHsKG98U8/00008.wav', 'id10001/J9lHsKG98U8/00015.wav', 'id10001/J9lHsKG98U8/._00023.wav', 'id10001/J9lHsKG98U8/._00001.wav', 'id10001/J9lHsKG98U8/._00026.wav', 'id10001/J9lHsKG98U8/._00017.wav', 'id10001/J9lHsKG98U8/00024.wav', 'id10001/J9lHsKG98U8/00004.wav', 'id10001/J9lHsKG98U8/._00007.wav', 'id10001/J9lHsKG98U8/00018.wav', 'id10001/J9lHsKG98U8/._00022.wav', 'id10001/J9lHsKG98U8/00019.wav', 'id10001/J9lHsKG98U8/._00015.wav', 'id10001/J9lHsKG98U8/._00006.wav', 'id10001/J9lHsKG98U8/00002.wav', 'id10001/J9lHsKG98U8/00003.wav', 'id10001/J9lHsKG98U8/00011.wav', 'id10001/J9lHsKG98U8/00001.wav', 'id10001/J9lHsKG98U8/00020.wav', 'id10001/J9lHsKG98U8/._00025.wav', 'id10001/J9lHsKG98U8/00009.wav', 'id10001/J9lHsKG98U8/._00010.wav', 'id10001/J9lHsKG98U8/00005.wav', 'id10001/7w0IBEWc9Qw/00007.wav', 'id10001/7w0IBEWc9Qw/._00004.wav', 'id10001/7w0IBEWc9Qw/._00008.wav', 'id10001/7w0IBEWc9Qw/._00005.wav', 'id10001/7w0IBEWc9Qw/._00003.wav', 'id10001/7w0IBEWc9Qw/._00002.wav', 'id10001/7w0IBEWc9Qw/00010.wav', 'id10001/7w0IBEWc9Qw/00006.wav', 'id10001/7w0IBEWc9Qw/._00009.wav', 'id10001/7w0IBEWc9Qw/00008.wav', 'id10001/7w0IBEWc9Qw/._00001.wav', 'id10001/7w0IBEWc9Qw/00004.wav', 'id10001/7w0IBEWc9Qw/._00007.wav', 'id10001/7w0IBEWc9Qw/._00006.wav', 'id10001/7w0IBEWc9Qw/00002.wav', 'id10001/7w0IBEWc9Qw/00003.wav', 'id10001/7w0IBEWc9Qw/00001.wav', 'id10001/7w0IBEWc9Qw/00009.wav', 'id10001/7w0IBEWc9Qw/._00010.wav', 'id10001/7w0IBEWc9Qw/00005.wav', 'id10001/9mQ11vBs1wc/._00004.wav', 'id10001/9mQ11vBs1wc/._00003.wav', 'id10001/9mQ11vBs1wc/._00002.wav', 'id10001/9mQ11vBs1wc/._00001.wav', 'id10001/9mQ11vBs1wc/00004.wav', 'id10001/9mQ11vBs1wc/00002.wav', 'id10001/9mQ11vBs1wc/00003.wav', 'id10001/9mQ11vBs1wc/00001.wav', 'id10001/Y8hIVOBuels/00007.wav', 'id10001/Y8hIVOBuels/._00004.wav', 'id10001/Y8hIVOBuels/._00008.wav', 'id10001/Y8hIVOBuels/._00005.wav', 'id10001/Y8hIVOBuels/._00003.wav', 'id10001/Y8hIVOBuels/._00002.wav', 'id10001/Y8hIVOBuels/00010.wav', 'id10001/Y8hIVOBuels/00006.wav', 'id10001/Y8hIVOBuels/._00009.wav', 'id10001/Y8hIVOBuels/00008.wav', 'id10001/Y8hIVOBuels/._00001.wav', 'id10001/Y8hIVOBuels/00004.wav', 'id10001/Y8hIVOBuels/._00007.wav', 'id10001/Y8hIVOBuels/._00006.wav', 'id10001/Y8hIVOBuels/00002.wav', 'id10001/Y8hIVOBuels/00003.wav', 'id10001/Y8hIVOBuels/00001.wav', 'id10001/Y8hIVOBuels/00009.wav', 'id10001/Y8hIVOBuels/._00010.wav', 'id10001/Y8hIVOBuels/00005.wav', 'id10001/7gWzIy6yIIk/._00004.wav', 'id10001/7gWzIy6yIIk/._00003.wav', 'id10001/7gWzIy6yIIk/._00002.wav', 'id10001/7gWzIy6yIIk/._00001.wav', 'id10001/7gWzIy6yIIk/00004.wav', 'id10001/7gWzIy6yIIk/00002.wav', 'id10001/7gWzIy6yIIk/00003.wav', 'id10001/7gWzIy6yIIk/00001.wav', 'id10001/eWIX7sfn-M0/._00001.wav', 'id10001/eWIX7sfn-M0/00001.wav', 'id10001/DtdEYdViWdw/._00003.wav', 'id10001/DtdEYdViWdw/._00002.wav', 'id10001/DtdEYdViWdw/._00001.wav', 'id10001/DtdEYdViWdw/00002.wav', 'id10001/DtdEYdViWdw/00003.wav', 'id10001/DtdEYdViWdw/00001.wav', 'id10001/utrA-v8pPm4/._00001.wav', 'id10001/utrA-v8pPm4/00001.wav']\n"
     ]
    }
   ],
   "source": [
    "src_dir = 'data/wav'\n",
    "csv_file_dir2 = 'data/target/vox1_meta.csv'\n",
    "l = get_utt_list(src_dir)\n",
    "print(l)"
   ]
  },
  {
   "cell_type": "code",
   "execution_count": 36,
   "metadata": {},
   "outputs": [],
   "source": [
    "dataset = RawNetDataset(files_dir=list_IDs,base_dir=src_dir,csv_file_dir=csv_file_dir2)\n",
    "data_loader = torch.utils.data.DataLoader(dataset,\n",
    "                                          batch_size=1,\n",
    "                                          shuffle=True)"
   ]
  },
  {
   "cell_type": "code",
   "execution_count": 37,
   "metadata": {},
   "outputs": [
    {
     "name": "stdout",
     "output_type": "stream",
     "text": [
      "torch.Size([1, 205508])\n",
      "1\n",
      "59049\n",
      "\n"
     ]
    },
    {
     "data": {
      "text/plain": [
       "(tensor([[ 0.0133,  0.0103, -0.0033,  ..., -0.0066, -0.0085,  0.0000]]), 5)"
      ]
     },
     "execution_count": 37,
     "metadata": {},
     "output_type": "execute_result"
    }
   ],
   "source": [
    "dataset.__getitem__(5)"
   ]
  },
  {
   "cell_type": "code",
   "execution_count": 38,
   "metadata": {},
   "outputs": [
    {
     "name": "stdout",
     "output_type": "stream",
     "text": [
      "1251\n"
     ]
    }
   ],
   "source": [
    "print(len(dataset))"
   ]
  },
  {
   "cell_type": "code",
   "execution_count": null,
   "metadata": {},
   "outputs": [],
   "source": []
  },
  {
   "cell_type": "code",
   "execution_count": null,
   "metadata": {},
   "outputs": [],
   "source": []
  },
  {
   "cell_type": "code",
   "execution_count": null,
   "metadata": {},
   "outputs": [],
   "source": []
  },
  {
   "cell_type": "code",
   "execution_count": null,
   "metadata": {},
   "outputs": [],
   "source": []
  },
  {
   "cell_type": "code",
   "execution_count": null,
   "metadata": {},
   "outputs": [],
   "source": []
  }
 ],
 "metadata": {
  "kernelspec": {
   "display_name": "Python 3",
   "language": "python",
   "name": "python3"
  },
  "language_info": {
   "codemirror_mode": {
    "name": "ipython",
    "version": 3
   },
   "file_extension": ".py",
   "mimetype": "text/x-python",
   "name": "python",
   "nbconvert_exporter": "python",
   "pygments_lexer": "ipython3",
   "version": "3.7.4"
  }
 },
 "nbformat": 4,
 "nbformat_minor": 2
}
