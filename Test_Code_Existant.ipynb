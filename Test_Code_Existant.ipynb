{
 "cells": [
  {
   "cell_type": "code",
   "execution_count": 5,
   "metadata": {},
   "outputs": [],
   "source": [
    "import sys, os\n",
    "import torch\n",
    "import numpy as np\n",
    "import pandas as pd\n",
    "from torch import Tensor\n",
    "from scipy.io import wavfile\n",
    "from torchvision import transforms\n",
    "from torch.utils.data import DataLoader\n",
    "from torch.utils.data.dataset import Dataset\n",
    "import torchaudio"
   ]
  },
  {
   "cell_type": "code",
   "execution_count": 6,
   "metadata": {},
   "outputs": [
    {
     "name": "stdout",
     "output_type": "stream",
     "text": [
      "  VoxCeleb1 ID   VGGFace1 ID Gender Nationality  Set\n",
      "0      id10001  A.J._Buckley      m     Ireland  dev\n",
      "1      id10002   A.R._Rahman      m       India  dev\n",
      "2      id10003    Aamir_Khan      m       India  dev\n",
      "3      id10004   Aaron_Tveit      m         USA  dev\n"
     ]
    }
   ],
   "source": [
    "csvData = pd.read_csv('./data/data/target/vox1_meta.csv',sep=\"\\t\")\n",
    "print(csvData.iloc[0:4, 0:5])\n",
    "#for i, cls_name in enumerate(csvData[\"VoxCeleb1 ID\"]):\n",
    "   # print(\"==\",i,\"====\",cls_name)"
   ]
  },
  {
   "cell_type": "code",
   "execution_count": 7,
   "metadata": {},
   "outputs": [],
   "source": [
    "class RawNetDataset(Dataset):\n",
    "    def __init__(self, transform=None, mode=\"train\",files_dir=None, base_dir=\"\",csv_file_dir=\"\",nb_time=59049):\n",
    "        self.base_dir = base_dir\n",
    "        self.mode = mode\n",
    "        self.transform = transform\n",
    "        self.csv_file_dir = csv_file_dir\n",
    "        self.files_dir = files_dir\n",
    "        csv_file = pd.read_csv(csv_file_dir,sep=\"\\t\")\n",
    "        self.nb_time = nb_time\n",
    "        self.classes = np.array([i for i, cls_name in enumerate(csv_file[\"VoxCeleb1 ID\"].unique())])\n",
    "        \n",
    "    def __len__(self):\n",
    "        return self.classes.shape[0] \n",
    "    \n",
    "    def __getitem__(self, idx):\n",
    "        filename = self.files_dir[idx]\n",
    "        X, sample_rate = torchaudio.load(self.base_dir+filename)\n",
    "        label = self.classes[idx]\n",
    "        self._pre_emphasis(X)\n",
    "        nb_time = X.shape[1]\n",
    "        if nb_time > self.nb_time:\n",
    "            start_idx = np.random.randint(low = 0,\n",
    "                high = nb_time - self.nb_time)\n",
    "            X = X[:, start_idx:start_idx+self.nb_time]\n",
    "            print(\"taille supérieure\")\n",
    "        elif nb_time < self.nb_time:\n",
    "            nb_dup = int(self.nb_time / nb_time) + 1\n",
    "            X = np.tile(X, (1, nb_dup))[:, :self.nb_time]\n",
    "            print(\"taille inférieure\")\n",
    "        else:\n",
    "            X = X\n",
    "            print(\"taille égale\")\n",
    "        return X, label\n",
    "\n",
    "    def _pre_emphasis(self, x):\n",
    "        '''\n",
    "        Pre-emphasis for single channel input\n",
    "        '''\n",
    "        return np.asarray(x[:,1:] - 0.97 * x[:, :-1], dtype=np.float32)"
   ]
  },
  {
   "cell_type": "code",
   "execution_count": 47,
   "metadata": {},
   "outputs": [],
   "source": [
    "base_dir = 'data/data/wav/'\n",
    "\n",
    "csv_file_dir = 'data/data/target/vox1_meta.csv'"
   ]
  },
  {
   "cell_type": "code",
   "execution_count": 48,
   "metadata": {},
   "outputs": [],
   "source": [
    "def get_utt_list(src_dir):\n",
    "    l_utt = []\n",
    "    for r, ds, fs in os.walk(src_dir):\n",
    "        r = r.replace('\\\\', '/') \n",
    "       \n",
    "        base = '/'.join(r.split('/')[-2:])+'/'\n",
    "        for f in fs:\n",
    "            l_utt.append(base+f[:-4]+'.wav')\n",
    "    \n",
    "    list_train, list_test=l_utt[2:450],l_utt[451:]\n",
    "    return list_train, list_test"
   ]
  },
  {
   "cell_type": "code",
   "execution_count": 49,
   "metadata": {},
   "outputs": [
    {
     "name": "stdout",
     "output_type": "stream",
     "text": [
      "(['id10009/7hpSiT9_gCE/00001.wav', 'id10009/aFttHpeaXaQ/00001.wav', 'id10009/AtavJVP4bCk/00001.wav', 'id10009/AtavJVP4bCk/00002.wav', 'id10009/AtavJVP4bCk/00003.wav', 'id10009/AtavJVP4bCk/00004.wav', 'id10009/AtavJVP4bCk/00005.wav', 'id10009/AtavJVP4bCk/00006.wav', 'id10009/AtavJVP4bCk/00007.wav', 'id10009/AtavJVP4bCk/00008.wav', 'id10009/AtavJVP4bCk/00009.wav', 'id10009/EJ3tyqGqYfw/00001.wav', 'id10009/FOFbkVlz-wQ/00001.wav', 'id10009/FOFbkVlz-wQ/00002.wav', 'id10009/HCGXIgKsozU/00001.wav', 'id10009/JntZkGsH2Cc/00001.wav', 'id10009/JntZkGsH2Cc/00002.wav', 'id10009/JntZkGsH2Cc/00003.wav', 'id10009/JntZkGsH2Cc/00004.wav', 'id10009/JrwqvWr5_VE/00001.wav', 'id10009/JrwqvWr5_VE/00002.wav', 'id10009/JrwqvWr5_VE/00003.wav', 'id10009/JrwqvWr5_VE/00004.wav', 'id10009/JrwqvWr5_VE/00005.wav', 'id10009/JrwqvWr5_VE/00006.wav', 'id10009/JrwqvWr5_VE/00007.wav', 'id10009/JrwqvWr5_VE/00008.wav', 'id10009/JrwqvWr5_VE/00009.wav', 'id10009/qdop2-gjKBQ/00001.wav', 'id10009/qdop2-gjKBQ/00002.wav', 'id10009/seo9TTTEoE4/00001.wav', 'id10009/seo9TTTEoE4/00002.wav', 'id10009/sQIqfA-I_Ew/00001.wav', 'id10009/sQIqfA-I_Ew/00002.wav', 'id10009/sQIqfA-I_Ew/00003.wav', 'id10009/sQIqfA-I_Ew/00004.wav', 'id10009/sQIqfA-I_Ew/00005.wav', 'id10009/sQIqfA-I_Ew/00006.wav', 'id10009/sQIqfA-I_Ew/00007.wav', 'id10009/sQIqfA-I_Ew/00008.wav', 'id10009/sQIqfA-I_Ew/00009.wav', 'id10009/sQIqfA-I_Ew/00010.wav', 'id10009/sQIqfA-I_Ew/00011.wav', 'id10009/sQIqfA-I_Ew/00012.wav', 'id10009/sQIqfA-I_Ew/00013.wav', 'id10009/VM8gJWbQsEY/00001.wav', 'id10009/VM8gJWbQsEY/00002.wav', 'id10009/VM8gJWbQsEY/00003.wav', 'id10009/VM8gJWbQsEY/00004.wav', 'id10009/VM8gJWbQsEY/00005.wav', 'id10009/vy8sQ82o0fM/00001.wav', 'id10009/vy8sQ82o0fM/00002.wav', 'id10009/vy8sQ82o0fM/00003.wav', 'id10009/vy8sQ82o0fM/00004.wav', 'id10009/vy8sQ82o0fM/00005.wav', 'id10009/vy8sQ82o0fM/00006.wav', 'id10009/vy8sQ82o0fM/00007.wav', 'id10009/x_HdUZuSusA/00001.wav', 'id10009/x_HdUZuSusA/00002.wav', 'wav/id10016/.DS_S.wav', 'id10016/2wHaOQUrkHU/00001.wav', 'id10016/37mbJ9bXK28/00001.wav', 'id10016/5xGJYiNH2Jw/00001.wav', 'id10016/5xGJYiNH2Jw/00002.wav', 'id10016/5xGJYiNH2Jw/00003.wav', 'id10016/5xGJYiNH2Jw/00004.wav', 'id10016/5xGJYiNH2Jw/00005.wav', 'id10016/5xGJYiNH2Jw/00006.wav', 'id10016/5xGJYiNH2Jw/00007.wav', 'id10016/5xGJYiNH2Jw/00008.wav', 'id10016/5xGJYiNH2Jw/00009.wav', 'id10016/5xGJYiNH2Jw/00010.wav', 'id10016/5xGJYiNH2Jw/00011.wav', 'id10016/5xGJYiNH2Jw/00012.wav', 'id10016/5xGJYiNH2Jw/00013.wav', 'id10016/5xGJYiNH2Jw/00014.wav', 'id10016/5xGJYiNH2Jw/00015.wav', 'id10016/5xGJYiNH2Jw/00016.wav', 'id10016/5xGJYiNH2Jw/00017.wav', 'id10016/5xGJYiNH2Jw/00018.wav', 'id10016/5xGJYiNH2Jw/00019.wav', 'id10016/7FOcBtZM-rI/00001.wav', 'id10016/7FOcBtZM-rI/00002.wav', 'id10016/7FOcBtZM-rI/00003.wav', 'id10016/7FOcBtZM-rI/00004.wav', 'id10016/7FOcBtZM-rI/00005.wav', 'id10016/7FOcBtZM-rI/00006.wav', 'id10016/7FOcBtZM-rI/00007.wav', 'id10016/7OacMAs-Crc/00001.wav', 'id10016/7OacMAs-Crc/00002.wav', 'id10016/7OacMAs-Crc/00003.wav', 'id10016/7OacMAs-Crc/00004.wav', 'id10016/7OacMAs-Crc/00005.wav', 'id10016/7OacMAs-Crc/00006.wav', 'id10016/7OacMAs-Crc/00007.wav', 'id10016/7OacMAs-Crc/00008.wav', 'id10016/7OacMAs-Crc/00009.wav', 'id10016/8gWjr_-ROCc/00001.wav', 'id10016/8gWjr_-ROCc/00002.wav', 'id10016/a3j4Vg7CtjA/00001.wav', 'id10016/a3j4Vg7CtjA/00002.wav', 'id10016/a3j4Vg7CtjA/00003.wav', 'id10016/a3j4Vg7CtjA/00004.wav', 'id10016/a3j4Vg7CtjA/00005.wav', 'id10016/bIi7FnNx6m0/00001.wav', 'id10016/bIi7FnNx6m0/00002.wav', 'id10016/bIi7FnNx6m0/00003.wav', 'id10016/bIi7FnNx6m0/00004.wav', 'id10016/bIi7FnNx6m0/00005.wav', 'id10016/bIi7FnNx6m0/00006.wav', 'id10016/bIi7FnNx6m0/00007.wav', 'id10016/bIi7FnNx6m0/00008.wav', 'id10016/bIi7FnNx6m0/00009.wav', 'id10016/bIi7FnNx6m0/00010.wav', 'id10016/bIi7FnNx6m0/00011.wav', 'id10016/bIi7FnNx6m0/00012.wav', 'id10016/bIi7FnNx6m0/00013.wav', 'id10016/bIi7FnNx6m0/00014.wav', 'id10016/CsU9a10ccxA/00001.wav', 'id10016/CsU9a10ccxA/00002.wav', 'id10016/dOnuu_9-nyI/00001.wav', 'id10016/dOnuu_9-nyI/00002.wav', 'id10016/dOnuu_9-nyI/00003.wav', 'id10016/dOnuu_9-nyI/00004.wav', 'id10016/dOnuu_9-nyI/00005.wav', 'id10016/dOnuu_9-nyI/00006.wav', 'id10016/dOnuu_9-nyI/00007.wav', 'id10016/dOnuu_9-nyI/00008.wav', 'id10016/dOnuu_9-nyI/00009.wav', 'id10016/dOnuu_9-nyI/00010.wav', 'id10016/dOnuu_9-nyI/00011.wav', 'id10016/dOnuu_9-nyI/00012.wav', 'id10016/dOnuu_9-nyI/00013.wav', 'id10016/dOnuu_9-nyI/00014.wav', 'id10016/dOnuu_9-nyI/00015.wav', 'id10016/dOnuu_9-nyI/00016.wav', 'id10016/dOnuu_9-nyI/00017.wav', 'id10016/dOnuu_9-nyI/00018.wav', 'id10016/dOnuu_9-nyI/00019.wav', 'id10016/dOnuu_9-nyI/00020.wav', 'id10016/dOnuu_9-nyI/00021.wav', 'id10016/dOnuu_9-nyI/00022.wav', 'id10016/dOnuu_9-nyI/00023.wav', 'id10016/dOnuu_9-nyI/00024.wav', 'id10016/dOnuu_9-nyI/00025.wav', 'id10016/dOnuu_9-nyI/00026.wav', 'id10016/dOnuu_9-nyI/00027.wav', 'id10016/dOnuu_9-nyI/00028.wav', 'id10016/dOnuu_9-nyI/00029.wav', 'id10016/dOnuu_9-nyI/00030.wav', 'id10016/dOnuu_9-nyI/00031.wav', 'id10016/dOnuu_9-nyI/00032.wav', 'id10016/dOnuu_9-nyI/00033.wav', 'id10016/dOnuu_9-nyI/00034.wav', 'id10016/dOnuu_9-nyI/00035.wav', 'id10016/dOnuu_9-nyI/00036.wav', 'id10016/dOnuu_9-nyI/00037.wav', 'id10016/dOnuu_9-nyI/00038.wav', 'id10016/dOnuu_9-nyI/00039.wav', 'id10016/dOnuu_9-nyI/00040.wav', 'id10016/dOnuu_9-nyI/00041.wav', 'id10016/dOnuu_9-nyI/00042.wav', 'id10016/dOnuu_9-nyI/00043.wav', 'id10016/dOnuu_9-nyI/00044.wav', 'id10016/dOnuu_9-nyI/00045.wav', 'id10016/fb31EtxsZDs/00001.wav', 'id10016/FDXUYIgkTgk/00001.wav', 'id10016/FDXUYIgkTgk/00002.wav', 'id10016/FDXUYIgkTgk/00003.wav', 'id10016/FDXUYIgkTgk/00004.wav', 'id10016/hgB5ziAudzU/00001.wav', 'id10016/hgB5ziAudzU/00002.wav', 'id10016/hgB5ziAudzU/00003.wav', 'id10016/hgB5ziAudzU/00004.wav', 'id10016/hgB5ziAudzU/00005.wav', 'id10016/hgB5ziAudzU/00006.wav', 'id10016/hgB5ziAudzU/00007.wav', 'id10016/hgB5ziAudzU/00008.wav', 'id10016/hgB5ziAudzU/00009.wav', 'id10016/j0CaA8LPTdc/00001.wav', 'id10016/j0CaA8LPTdc/00002.wav', 'id10016/j0CaA8LPTdc/00003.wav', 'id10016/k4l2cRqjT78/00001.wav', 'id10016/l5sY-WWVnZM/00001.wav', 'id10016/LSeSZiv7evE/00001.wav', 'id10016/LSeSZiv7evE/00002.wav', 'id10016/MMTrblYIEgM/00001.wav', 'id10016/MPkuYnDHS4E/00001.wav', 'id10016/MPkuYnDHS4E/00002.wav', 'id10016/MPkuYnDHS4E/00003.wav', 'id10016/MPkuYnDHS4E/00004.wav', 'id10016/NJygdnZs634/00001.wav', 'id10016/NJygdnZs634/00002.wav', 'id10016/NJygdnZs634/00003.wav', 'id10016/o524HaR7jfE/00001.wav', 'id10016/o524HaR7jfE/00002.wav', 'id10016/o524HaR7jfE/00003.wav', 'id10016/o524HaR7jfE/00004.wav', 'id10016/o524HaR7jfE/00005.wav', 'id10016/o524HaR7jfE/00006.wav', 'id10016/o524HaR7jfE/00007.wav', 'id10016/o524HaR7jfE/00008.wav', 'id10016/o524HaR7jfE/00009.wav', 'id10016/o524HaR7jfE/00010.wav', 'id10016/o524HaR7jfE/00011.wav', 'id10016/o524HaR7jfE/00012.wav', 'id10016/o524HaR7jfE/00013.wav', 'id10016/o524HaR7jfE/00014.wav', 'id10016/o524HaR7jfE/00015.wav', 'id10016/o524HaR7jfE/00016.wav', 'id10016/o524HaR7jfE/00017.wav', 'id10016/o524HaR7jfE/00018.wav', 'id10016/o524HaR7jfE/00019.wav', 'id10016/o524HaR7jfE/00020.wav', 'id10016/o524HaR7jfE/00021.wav', 'id10016/o524HaR7jfE/00022.wav', 'id10016/o524HaR7jfE/00023.wav', 'id10016/o524HaR7jfE/00024.wav', 'id10016/o524HaR7jfE/00025.wav', 'id10016/o524HaR7jfE/00026.wav', 'id10016/o524HaR7jfE/00027.wav', 'id10016/o524HaR7jfE/00028.wav', 'id10016/o524HaR7jfE/00029.wav', 'id10016/ocnz4PPv-RQ/00001.wav', 'id10016/ocnz4PPv-RQ/00002.wav', 'id10016/ocnz4PPv-RQ/00003.wav', 'id10016/ocnz4PPv-RQ/00004.wav', 'id10016/pdTdefdQ_QI/00001.wav', 'id10016/pdTdefdQ_QI/00002.wav', 'id10016/pdTdefdQ_QI/00003.wav', 'id10016/pdTdefdQ_QI/00004.wav', 'id10016/pdTdefdQ_QI/00005.wav', 'id10016/pdTdefdQ_QI/00006.wav', 'id10016/pdTdefdQ_QI/00007.wav', 'id10016/PnSNt2F59-U/00001.wav', 'id10016/PnSNt2F59-U/00002.wav', 'id10016/RREb7K-SoSQ/00001.wav', 'id10016/RREb7K-SoSQ/00002.wav', 'id10016/RREb7K-SoSQ/00003.wav', 'id10016/RREb7K-SoSQ/00004.wav', 'id10016/RREb7K-SoSQ/00005.wav', 'id10016/RREb7K-SoSQ/00006.wav', 'id10016/RREb7K-SoSQ/00007.wav', 'id10016/RREb7K-SoSQ/00008.wav', 'id10016/RREb7K-SoSQ/00009.wav', 'id10016/RREb7K-SoSQ/00010.wav', 'id10016/RREb7K-SoSQ/00011.wav', 'id10016/RREb7K-SoSQ/00012.wav', 'id10016/RREb7K-SoSQ/00013.wav', 'id10016/RREb7K-SoSQ/00014.wav', 'id10016/RREb7K-SoSQ/00015.wav', 'id10016/RREb7K-SoSQ/00016.wav', 'id10016/RREb7K-SoSQ/00017.wav', 'id10016/RREb7K-SoSQ/00018.wav', 'id10016/RREb7K-SoSQ/00019.wav', 'id10016/RREb7K-SoSQ/00020.wav', 'id10016/RREb7K-SoSQ/00021.wav', 'id10016/RREb7K-SoSQ/00022.wav', 'id10016/RREb7K-SoSQ/00023.wav', 'id10016/RREb7K-SoSQ/00024.wav', 'id10016/RREb7K-SoSQ/00025.wav', 'id10016/RREb7K-SoSQ/00026.wav', 'id10016/RREb7K-SoSQ/00027.wav', 'id10016/RREb7K-SoSQ/00028.wav', 'id10016/SCFgvk0Sm24/00001.wav', 'id10016/SCFgvk0Sm24/00002.wav', 'id10016/SCFgvk0Sm24/00003.wav', 'id10016/SCFgvk0Sm24/00004.wav', 'id10016/SCFgvk0Sm24/00005.wav', 'id10016/SCFgvk0Sm24/00006.wav', 'id10016/SCFgvk0Sm24/00007.wav', 'id10016/SCFgvk0Sm24/00008.wav', 'id10016/SCFgvk0Sm24/00009.wav', 'id10016/SCFgvk0Sm24/00010.wav', 'id10016/SCFgvk0Sm24/00011.wav', 'id10016/SCFgvk0Sm24/00012.wav', 'id10016/SCFgvk0Sm24/00013.wav', 'id10016/SCFgvk0Sm24/00014.wav', 'id10016/uM5GCGOXVXc/00001.wav', 'id10016/uM5GCGOXVXc/00002.wav', 'id10016/uM5GCGOXVXc/00003.wav', 'id10016/vpnw2jQlZn4/00001.wav', 'id10016/vpnw2jQlZn4/00002.wav', 'id10016/vpnw2jQlZn4/00003.wav', 'id10016/vpnw2jQlZn4/00004.wav', 'id10016/vpnw2jQlZn4/00005.wav', 'id10016/vpnw2jQlZn4/00006.wav', 'id10016/vpnw2jQlZn4/00007.wav', 'id10016/vpnw2jQlZn4/00008.wav', 'id10016/WfkA4lUZwZ4/00001.wav', 'id10016/wg6IOBMAdOc/00001.wav', 'id10016/WwguhI5dInQ/00001.wav', 'id10016/ywRolvE7ToY/00001.wav', 'id10016/ywRolvE7ToY/00002.wav', 'id10016/ywRolvE7ToY/00003.wav', 'id10016/ywRolvE7ToY/00004.wav', 'id10016/ywRolvE7ToY/00005.wav', 'id10016/ywRolvE7ToY/00006.wav', 'id10016/ywRolvE7ToY/00007.wav', 'id10016/ywRolvE7ToY/00008.wav', 'id10016/ywRolvE7ToY/00009.wav', 'id10016/ywRolvE7ToY/00010.wav', 'id10016/ywRolvE7ToY/00011.wav', 'id10016/ywRolvE7ToY/00012.wav', 'id10016/ywRolvE7ToY/00013.wav', 'id10016/Zxab80IZxU8/00001.wav', 'id10016/Zxab80IZxU8/00002.wav', 'id10016/Zxab80IZxU8/00003.wav', 'id10016/Zxab80IZxU8/00004.wav', 'id10016/Zxab80IZxU8/00005.wav', 'id10016/Zxab80IZxU8/00006.wav', 'id10016/Zxab80IZxU8/00007.wav', 'id10016/Zxab80IZxU8/00008.wav', 'id10017/5r-26vNFeJU/00001.wav', 'id10017/5r-26vNFeJU/00002.wav', 'id10017/5r-26vNFeJU/00003.wav', 'id10017/5r-26vNFeJU/00004.wav', 'id10017/5r-26vNFeJU/00005.wav', 'id10017/5r-26vNFeJU/00006.wav', 'id10017/5r-26vNFeJU/00007.wav', 'id10017/5r-26vNFeJU/00008.wav', 'id10017/5r-26vNFeJU/00009.wav', 'id10017/5r-26vNFeJU/00010.wav', 'id10017/5VxX7ZI5z5s/00001.wav', 'id10017/5VxX7ZI5z5s/00002.wav', 'id10017/5VxX7ZI5z5s/00003.wav', 'id10017/5VxX7ZI5z5s/00004.wav', 'id10017/5VxX7ZI5z5s/00005.wav', 'id10017/5VxX7ZI5z5s/00006.wav', 'id10017/6ya9UpdRCPs/00001.wav', 'id10017/6ya9UpdRCPs/00002.wav', 'id10017/7QOGR0zvTxY/00001.wav', 'id10017/7QOGR0zvTxY/00002.wav', 'id10017/8rp9UYZp-zA/00001.wav', 'id10017/8rp9UYZp-zA/00002.wav', 'id10017/8rp9UYZp-zA/00003.wav', 'id10017/8rp9UYZp-zA/00004.wav', 'id10017/8rp9UYZp-zA/00005.wav', 'id10017/8rp9UYZp-zA/00006.wav', 'id10017/8rp9UYZp-zA/00007.wav', 'id10017/8rp9UYZp-zA/00008.wav', 'id10017/8rp9UYZp-zA/00009.wav', 'id10017/8rp9UYZp-zA/00010.wav', 'id10017/8rp9UYZp-zA/00011.wav', 'id10017/8rp9UYZp-zA/00012.wav', 'id10017/8rp9UYZp-zA/00013.wav', 'id10017/8rp9UYZp-zA/00014.wav', 'id10017/8rp9UYZp-zA/00015.wav', 'id10017/8rp9UYZp-zA/00016.wav', 'id10017/8rp9UYZp-zA/00017.wav', 'id10017/8rp9UYZp-zA/00018.wav', 'id10017/bNNIcOJGy4w/00001.wav', 'id10017/bNNIcOJGy4w/00002.wav', 'id10017/bNNIcOJGy4w/00003.wav', 'id10017/bNNIcOJGy4w/00004.wav', 'id10017/BuecddErOwU/00001.wav', 'id10017/BuecddErOwU/00002.wav', 'id10017/BuecddErOwU/00003.wav', 'id10017/BuecddErOwU/00004.wav', 'id10017/BuecddErOwU/00005.wav', 'id10017/BuecddErOwU/00006.wav', 'id10017/BuecddErOwU/00007.wav', 'id10017/BuecddErOwU/00008.wav', 'id10017/BuecddErOwU/00009.wav', 'id10017/BuecddErOwU/00010.wav', 'id10017/BuecddErOwU/00011.wav', 'id10017/BuecddErOwU/00012.wav', 'id10017/BuecddErOwU/00013.wav', 'id10017/BuecddErOwU/00014.wav', 'id10017/BuecddErOwU/00015.wav', 'id10017/BuecddErOwU/00016.wav', 'id10017/BuecddErOwU/00017.wav', 'id10017/BuecddErOwU/00018.wav', 'id10017/CYb_opUpiw4/00001.wav', 'id10017/CYb_opUpiw4/00002.wav', 'id10017/CYb_opUpiw4/00003.wav', 'id10017/CYb_opUpiw4/00004.wav', 'id10017/CYb_opUpiw4/00005.wav', 'id10017/CYb_opUpiw4/00006.wav', 'id10017/CYb_opUpiw4/00007.wav', 'id10017/CYb_opUpiw4/00008.wav', 'id10017/CYb_opUpiw4/00009.wav', 'id10017/CYb_opUpiw4/00010.wav', 'id10017/CYb_opUpiw4/00011.wav', 'id10017/CYb_opUpiw4/00012.wav', 'id10017/CYb_opUpiw4/00013.wav', 'id10017/CYb_opUpiw4/00014.wav', 'id10017/CYb_opUpiw4/00015.wav', 'id10017/CYb_opUpiw4/00016.wav', 'id10017/CYb_opUpiw4/00017.wav', 'id10017/CYb_opUpiw4/00018.wav', 'id10017/CYb_opUpiw4/00019.wav', 'id10017/CYb_opUpiw4/00020.wav', 'id10017/CYb_opUpiw4/00021.wav', 'id10017/CYb_opUpiw4/00022.wav', 'id10017/CYb_opUpiw4/00023.wav', 'id10017/CYb_opUpiw4/00024.wav', 'id10017/CYb_opUpiw4/00025.wav', 'id10017/CYb_opUpiw4/00026.wav', 'id10017/CYb_opUpiw4/00027.wav', 'id10017/CYb_opUpiw4/00028.wav', 'id10017/CYb_opUpiw4/00029.wav', 'id10017/CYb_opUpiw4/00030.wav', 'id10017/iwN6Hu6xyM0/00001.wav', 'id10017/iwN6Hu6xyM0/00002.wav', 'id10017/iwN6Hu6xyM0/00003.wav', 'id10017/iwN6Hu6xyM0/00004.wav', 'id10017/iwN6Hu6xyM0/00005.wav', 'id10017/iwN6Hu6xyM0/00006.wav', 'id10017/Pkfu9rKM5QA/00001.wav', 'id10017/Pkfu9rKM5QA/00002.wav', 'id10017/Pkfu9rKM5QA/00003.wav', 'id10017/Pkfu9rKM5QA/00004.wav', 'id10017/Pkfu9rKM5QA/00005.wav', 'id10017/Pkfu9rKM5QA/00006.wav', 'id10017/Pkfu9rKM5QA/00007.wav', 'id10017/pOJlOI5cDZw/00001.wav', 'id10017/pOJlOI5cDZw/00002.wav', 'id10017/pOJlOI5cDZw/00003.wav', 'id10017/pOJlOI5cDZw/00004.wav', 'id10017/pOJlOI5cDZw/00005.wav', 'id10017/pOJlOI5cDZw/00006.wav', 'id10017/Px9R6A3XKDM/00001.wav', 'id10017/Px9R6A3XKDM/00002.wav', 'id10017/Px9R6A3XKDM/00003.wav', 'id10017/Px9R6A3XKDM/00004.wav', 'id10017/PynZ3bQ3Ga4/00001.wav', 'id10017/PynZ3bQ3Ga4/00002.wav', 'id10017/qFUUDSjCy5M/00001.wav', 'id10017/qFUUDSjCy5M/00002.wav', 'id10017/qFUUDSjCy5M/00003.wav', 'id10017/qFUUDSjCy5M/00004.wav', 'id10017/qFUUDSjCy5M/00005.wav', 'id10017/qFUUDSjCy5M/00006.wav', 'id10017/qFUUDSjCy5M/00007.wav', 'id10017/qFUUDSjCy5M/00008.wav', 'id10017/uy0-9hpmHJs/00001.wav', 'id10017/uy0-9hpmHJs/00002.wav', 'id10017/xH3Pp_5yxOk/00001.wav', 'id10017/xH3Pp_5yxOk/00002.wav', 'id10017/xH3Pp_5yxOk/00003.wav', 'id10017/xH3Pp_5yxOk/00004.wav', 'id10017/xH3Pp_5yxOk/00005.wav', 'id10017/xH3Pp_5yxOk/00006.wav', 'id10017/xH3Pp_5yxOk/00007.wav', 'id10017/xH3Pp_5yxOk/00008.wav', 'id10017/xH3Pp_5yxOk/00009.wav', 'id10017/xH3Pp_5yxOk/00010.wav'], ['id10017/xH3Pp_5yxOk/00012.wav', 'id10017/xH3Pp_5yxOk/00013.wav', 'id10017/xH3Pp_5yxOk/00014.wav', 'id10017/xH3Pp_5yxOk/00015.wav', 'id10017/xH3Pp_5yxOk/00016.wav', 'id10017/xH3Pp_5yxOk/00017.wav', 'id10017/xH3Pp_5yxOk/00018.wav', 'id10017/xH3Pp_5yxOk/00019.wav', 'id10017/xH3Pp_5yxOk/00020.wav', 'id10017/xH3Pp_5yxOk/00021.wav', 'id10017/xH3Pp_5yxOk/00022.wav', 'id10017/xH3Pp_5yxOk/00023.wav', 'id10017/xLakEK2bbQw/00001.wav', 'id10017/xLakEK2bbQw/00002.wav', 'id10017/xLakEK2bbQw/00003.wav', 'id10017/xLakEK2bbQw/00004.wav', 'wav/id10019/.DS_S.wav', 'id10019/2vSPFNQoKmk/00001.wav', 'id10019/2vSPFNQoKmk/00002.wav', 'id10019/2vSPFNQoKmk/00003.wav', 'id10019/2vSPFNQoKmk/00004.wav', 'id10019/2vSPFNQoKmk/00005.wav', 'id10019/2vSPFNQoKmk/00006.wav', 'id10019/2vSPFNQoKmk/00007.wav', 'id10019/2vSPFNQoKmk/00008.wav', 'id10019/2vSPFNQoKmk/00009.wav', 'id10019/2vSPFNQoKmk/00010.wav', 'id10019/2vSPFNQoKmk/00011.wav', 'id10019/2vSPFNQoKmk/00012.wav', 'id10019/2vSPFNQoKmk/00013.wav', 'id10019/5AfbbZolonc/00001.wav', 'id10019/5AfbbZolonc/00002.wav', 'id10019/5AfbbZolonc/00003.wav', 'id10019/5AfbbZolonc/00004.wav', 'id10019/5AfbbZolonc/00005.wav', 'id10019/5AfbbZolonc/00006.wav', 'id10019/ABpVMOt0WEE/00001.wav', 'id10019/ABpVMOt0WEE/00002.wav', 'id10019/ABpVMOt0WEE/00003.wav', 'id10019/ABpVMOt0WEE/00004.wav', 'id10019/ABpVMOt0WEE/00005.wav', 'id10019/cE3StI6Qw0w/00001.wav', 'id10019/dCpykP6iJnA/00001.wav', 'id10019/dCpykP6iJnA/00002.wav', 'id10019/dCpykP6iJnA/00003.wav', 'id10019/feJ12-OYVaU/00001.wav', 'id10019/feJ12-OYVaU/00002.wav', 'id10019/feJ12-OYVaU/00003.wav', 'id10019/feJ12-OYVaU/00004.wav', 'id10019/feJ12-OYVaU/00005.wav', 'id10019/feJ12-OYVaU/00006.wav', 'id10019/feJ12-OYVaU/00007.wav', 'id10019/feJ12-OYVaU/00008.wav', 'id10019/feJ12-OYVaU/00009.wav', 'id10019/FoACkHPFRTo/00001.wav', 'id10019/FoACkHPFRTo/00002.wav', 'id10019/FoACkHPFRTo/00003.wav', 'id10019/FoACkHPFRTo/00004.wav', 'id10019/IipkRlgAGC0/00001.wav', 'id10019/IipkRlgAGC0/00002.wav', 'id10019/IipkRlgAGC0/00003.wav', 'id10019/IipkRlgAGC0/00004.wav', 'id10019/IipkRlgAGC0/00005.wav', 'id10019/IipkRlgAGC0/00006.wav', 'id10019/IipkRlgAGC0/00007.wav', 'id10019/IipkRlgAGC0/00008.wav', 'id10019/IipkRlgAGC0/00009.wav', 'id10019/IipkRlgAGC0/00010.wav', 'id10019/KjHVVTWafJQ/00001.wav', 'id10019/KjHVVTWafJQ/00002.wav', 'id10019/KjHVVTWafJQ/00003.wav', 'id10019/KjHVVTWafJQ/00004.wav', 'id10019/KPM7HF0Xc18/00001.wav', 'id10019/KPM7HF0Xc18/00002.wav', 'id10019/KPM7HF0Xc18/00003.wav', 'id10019/KPM7HF0Xc18/00004.wav', 'id10019/KPM7HF0Xc18/00005.wav', 'id10019/KPM7HF0Xc18/00006.wav', 'id10019/KPM7HF0Xc18/00007.wav', 'id10019/N4ZN6AAv4vU/00001.wav', 'id10019/N4ZN6AAv4vU/00002.wav', 'id10019/N4ZN6AAv4vU/00003.wav', 'id10019/nSpt6fRmaV4/00001.wav', 'id10019/vw9WhRtxRhE/00001.wav', 'id10019/XYGmvRZiNNg/00001.wav', 'id10019/XYGmvRZiNNg/00002.wav', 'id10019/XYGmvRZiNNg/00003.wav', 'id10019/XYGmvRZiNNg/00004.wav', 'id10019/YLTaZK6x2z8/00001.wav', 'id10019/YLTaZK6x2z8/00002.wav', 'id10019/YLTaZK6x2z8/00003.wav', 'id10019/YLTaZK6x2z8/00004.wav', 'id10019/YLTaZK6x2z8/00005.wav', 'id10019/YLTaZK6x2z8/00006.wav', 'id10019/YLTaZK6x2z8/00007.wav'])\n"
     ]
    }
   ],
   "source": [
    "src_dir = 'data/data/wav/'\n",
    "list_train, list_test = get_utt_list(src_dir)\n",
    "print(len(list_train),len(list_test))\n",
    "print(list_train)\n"
   ]
  },
  {
   "cell_type": "code",
   "execution_count": 46,
   "metadata": {},
   "outputs": [
    {
     "name": "stdout",
     "output_type": "stream",
     "text": [
      "Train set size: 448\n",
      "Test set size: 95\n"
     ]
    }
   ],
   "source": [
    "dataset_train = RawNetDataset(files_dir=list_train,base_dir=base_dir,csv_file_dir=csv_file_dir)\n",
    "dataset_test = RawNetDataset(files_dir=list_test,base_dir=base_dir,csv_file_dir=csv_file_dir)\n",
    "\n",
    "print(\"Train set size: \" + str(len(list_train)))\n",
    "print(\"Test set size: \" + str(len(list_test)))\n",
    "\n",
    "data_loader = torch.utils.data.DataLoader(dataset_train, batch_size=50, shuffle=True)\n",
    "test_loader = torch.utils.data.DataLoader(dataset_test, batch_size = 50, shuffle = True)"
   ]
  },
  {
   "cell_type": "code",
   "execution_count": null,
   "metadata": {},
   "outputs": [],
   "source": [
    "print(dataset_train.__getitem__(5))\n",
    "print(dataset_test.__getitem__(5))"
   ]
  },
  {
   "cell_type": "code",
   "execution_count": null,
   "metadata": {},
   "outputs": [],
   "source": [
    "import torch.nn as nn\n",
    "import torch.nn.functional as F\n",
    "\n",
    "class Model(nn.Module):\n",
    "    def __init__(self):\n",
    "        super(Model, self).__init__()\n",
    "        self.conv1 = nn.Conv1d(3,128, 3)\n",
    "        self.conv2 = nn.Conv1d(20, 20, 5)\n",
    "\n",
    "    def forward(self, x):\n",
    "        x = F.relu(self.conv1(x))\n",
    "        return F.relu(self.conv2(x))\n",
    "    "
   ]
  },
  {
   "cell_type": "code",
   "execution_count": null,
   "metadata": {},
   "outputs": [],
   "source": []
  },
  {
   "cell_type": "code",
   "execution_count": null,
   "metadata": {},
   "outputs": [],
   "source": []
  },
  {
   "cell_type": "code",
   "execution_count": null,
   "metadata": {},
   "outputs": [],
   "source": []
  }
 ],
 "metadata": {
  "kernelspec": {
   "display_name": "Python 3",
   "language": "python",
   "name": "python3"
  },
  "language_info": {
   "codemirror_mode": {
    "name": "ipython",
    "version": 3
   },
   "file_extension": ".py",
   "mimetype": "text/x-python",
   "name": "python",
   "nbconvert_exporter": "python",
   "pygments_lexer": "ipython3",
   "version": "3.7.4"
  }
 },
 "nbformat": 4,
 "nbformat_minor": 2
}
