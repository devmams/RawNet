{
 "cells": [
  {
   "cell_type": "code",
   "execution_count": 28,
   "metadata": {},
   "outputs": [],
   "source": [
    "import sys, os\n",
    "import torch\n",
    "import librosa\n",
    "import numpy as np\n",
    "import pandas as pd\n",
    "from torch import Tensor\n",
    "from scipy.io import wavfile\n",
    "from torchvision import transforms\n",
    "from torch.utils.data import DataLoader\n",
    "from torch.utils.data.dataset import Dataset\n",
    "import torchaudio\n",
    "import numpy as np"
   ]
  },
  {
   "cell_type": "code",
   "execution_count": 91,
   "metadata": {},
   "outputs": [],
   "source": [
    "class RawNetDataset(Dataset):\n",
    "    def __init__(self, transform=None, mode=\"train\",files_dir=None, base_dir=\"\",csv_file_dir=\"\",nb_time=59049):\n",
    "        self.base_dir = base_dir\n",
    "        self.mode = mode\n",
    "        self.transform = transform\n",
    "        self.csv_file_dir = csv_file_dir\n",
    "        self.files_dir = files_dir\n",
    "        csv_file = pd.read_csv(csv_file_dir,sep=\"\\t\")\n",
    "        self.nb_time = nb_time\n",
    "        self.classes = np.array([i for i, cls_name in enumerate(csv_file[\"VoxCeleb1 ID\"].unique())])\n",
    "\n",
    "    def __len__(self):\n",
    "        return self.classes.shape[0] \n",
    "    \n",
    "    def __getitem__(self, idx):\n",
    "        filename = self.files_dir[idx]\n",
    "        X, sample_rate = torchaudio.load(self.base_dir+filename)\n",
    "        label = self.classes[idx]\n",
    "        self._pre_emphasis(X)\n",
    "        nb_time = X.shape[1]\n",
    "        if nb_time > self.nb_time:\n",
    "            start_idx = np.random.randint(low = 0,\n",
    "                high = nb_time - self.nb_time)\n",
    "            X = X[:, start_idx:start_idx+self.nb_time]\n",
    "            print(\"taille supérieure\")\n",
    "        elif nb_time < self.nb_time:\n",
    "            nb_dup = int(self.nb_time / nb_time) + 1\n",
    "            X = np.tile(X, (1, nb_dup))[:, :self.nb_time]\n",
    "            print(\"taille inférieure\")\n",
    "        else:\n",
    "            X = X\n",
    "            print(\"taille égale\")\n",
    "        return X, label\n",
    "\n",
    "    def _pre_emphasis(self, x):\n",
    "        '''\n",
    "        Pre-emphasis for single channel input\n",
    "        '''\n",
    "        return np.asarray(x[:,1:] - 0.97 * x[:, :-1], dtype=np.float32) \n",
    "\n"
   ]
  },
  {
   "cell_type": "code",
   "execution_count": 97,
   "metadata": {},
   "outputs": [],
   "source": [
    "base_dir = 'data/wav'\n",
    "list_IDs = ['/id10009/7hpSiT9_gCE/00001.wav',\n",
    "        '/id10009/aFttHpeaXaQ/00001.wav',\n",
    "        '/id10009/AtavJVP4bCk/00001.wav',\n",
    "        '/id10009/AtavJVP4bCk/00002.wav',\n",
    "        '/id10009/AtavJVP4bCk/00003.wav',\n",
    "        '/id10009/AtavJVP4bCk/00004.wav',\n",
    "        '/id10009/AtavJVP4bCk/00005.wav',\n",
    "        '/id10009/AtavJVP4bCk/00006.wav',\n",
    "        '/id10009/AtavJVP4bCk/00007.wav',\n",
    "        '/id10009/AtavJVP4bCk/00008.wav',\n",
    "        ]\n",
    "csv_file_dir = 'data/target/vox1_meta.csv'"
   ]
  },
  {
   "cell_type": "code",
   "execution_count": 98,
   "metadata": {},
   "outputs": [],
   "source": [
    "dataset = RawNetDataset(files_dir=list_IDs,base_dir=base_dir,csv_file_dir=csv_file_dir)\n",
    "data_loader = torch.utils.data.DataLoader(dataset,\n",
    "                                          batch_size=1,\n",
    "                                          shuffle=True)"
   ]
  },
  {
   "cell_type": "code",
   "execution_count": 101,
   "metadata": {},
   "outputs": [
    {
     "name": "stdout",
     "output_type": "stream",
     "text": [
      "taille supérieure\n"
     ]
    },
    {
     "data": {
      "text/plain": [
       "(tensor([[-0.0331, -0.0225, -0.0042,  ...,  0.0011, -0.0005, -0.0031]]), 5)"
      ]
     },
     "execution_count": 101,
     "metadata": {},
     "output_type": "execute_result"
    }
   ],
   "source": [
    "dataset.__getitem__(5)"
   ]
  },
  {
   "cell_type": "code",
   "execution_count": null,
   "metadata": {},
   "outputs": [],
   "source": []
  }
 ],
 "metadata": {
  "kernelspec": {
   "display_name": "Python 3",
   "language": "python",
   "name": "python3"
  },
  "language_info": {
   "codemirror_mode": {
    "name": "ipython",
    "version": 3
   },
   "file_extension": ".py",
   "mimetype": "text/x-python",
   "name": "python",
   "nbconvert_exporter": "python",
   "pygments_lexer": "ipython3",
   "version": "3.7.3"
  }
 },
 "nbformat": 4,
 "nbformat_minor": 2
}
